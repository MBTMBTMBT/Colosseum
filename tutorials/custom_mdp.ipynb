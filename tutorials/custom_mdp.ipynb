{
 "cells": [
  {
   "cell_type": "markdown",
   "source": [
    "# Custom MDP specification\n",
    "\n",
    "In the following code, we show how to define a custom MDP with a custom transition probability matrix, reward distributions and starting state distribution."
   ],
   "metadata": {
    "collapsed": false,
    "pycharm": {
     "name": "#%% md\n"
    }
   }
  },
  {
   "cell_type": "code",
   "execution_count": 1,
   "outputs": [],
   "source": [
    "import numpy as np\n",
    "from scipy.stats import beta\n",
    "\n",
    "from colosseum.mdp.custom_mdp import CustomEpisodic, CustomContinuous\n",
    "from colosseum.utils.loops import human_loop"
   ],
   "metadata": {
    "collapsed": false,
    "pycharm": {
     "name": "#%%\n"
    }
   }
  },
  {
   "cell_type": "code",
   "execution_count": 2,
   "metadata": {
    "collapsed": true,
    "pycharm": {
     "name": "#%%\n"
    }
   },
   "outputs": [
    {
     "name": "stdout",
     "output_type": "stream",
     "text": [
      "Start calculating the optimal policy\n",
      "End calculating the optimal policy\n",
      "State: TimeStep(step_type=<StepType.FIRST: 0>, reward=None, discount=None, observation=0)\n",
      "[['H' '=' '0']\n",
      " ['_' '_' '_']\n",
      " [' ' ' ' 'X']\n",
      " ['A' ' ' 'X']]\n",
      "The optimal action for this state is:1\n",
      "State: TimeStep(step_type=<StepType.MID: 1>, reward=0.5501015186309814, discount=1.0, observation=2)\n",
      "[['H' '=' '1']\n",
      " ['_' '_' '_']\n",
      " ['A' ' ' 'X']\n",
      " [' ' ' ' 'X']]\n",
      "The optimal action for this state is:0\n",
      "State: TimeStep(step_type=<StepType.MID: 1>, reward=0.45915117859840393, discount=1.0, observation=3)\n",
      "[['H' '=' '2']\n",
      " ['_' '_' '_']\n",
      " [' ' ' ' 'X']\n",
      " [' ' 'A' 'X']]\n",
      "The optimal action for this state is:0\n",
      "State: TimeStep(step_type=<StepType.LAST: 2>, reward=0.796762228012085, discount=0.0, observation=-1)\n",
      "State: TimeStep(step_type=<StepType.FIRST: 0>, reward=None, discount=None, observation=0)\n",
      "[['H' '=' '0']\n",
      " ['_' '_' '_']\n",
      " [' ' ' ' 'X']\n",
      " ['A' ' ' 'X']]\n",
      "The optimal action for this state is:1\n",
      "Start calculating the optimal policy\n",
      "End calculating the optimal policy\n",
      "State: TimeStep(step_type=<StepType.FIRST: 0>, reward=None, discount=None, observation=0)\n"
     ]
    },
    {
     "ename": "TypeError",
     "evalue": "get_grid_representation() missing 1 required positional argument: 'h'",
     "output_type": "error",
     "traceback": [
      "\u001B[0;31m---------------------------------------------------------------------------\u001B[0m",
      "\u001B[0;31mTypeError\u001B[0m                                 Traceback (most recent call last)",
      "\u001B[0;32m/tmp/ipykernel_11921/168699325.py\u001B[0m in \u001B[0;36m<module>\u001B[0;34m\u001B[0m\n\u001B[1;32m     50\u001B[0m     \u001B[0mR\u001B[0m\u001B[0;34m=\u001B[0m\u001B[0mR\u001B[0m\u001B[0;34m,\u001B[0m\u001B[0;34m\u001B[0m\u001B[0;34m\u001B[0m\u001B[0m\n\u001B[1;32m     51\u001B[0m )\n\u001B[0;32m---> 52\u001B[0;31m \u001B[0mhuman_loop\u001B[0m\u001B[0;34m(\u001B[0m\u001B[0mmdp\u001B[0m\u001B[0;34m)\u001B[0m\u001B[0;34m\u001B[0m\u001B[0;34m\u001B[0m\u001B[0m\n\u001B[0m",
      "\u001B[0;32m~/PycharmProjects/ColosseumOfficial/colosseum/utils/loops.py\u001B[0m in \u001B[0;36mhuman_loop\u001B[0;34m(mdp, other_policies)\u001B[0m\n\u001B[1;32m     28\u001B[0m     \u001B[0;32mwhile\u001B[0m \u001B[0;32mTrue\u001B[0m\u001B[0;34m:\u001B[0m\u001B[0;34m\u001B[0m\u001B[0;34m\u001B[0m\u001B[0m\n\u001B[1;32m     29\u001B[0m         \u001B[0mprint\u001B[0m\u001B[0;34m(\u001B[0m\u001B[0;34m\"State:\"\u001B[0m\u001B[0;34m,\u001B[0m \u001B[0mstate\u001B[0m\u001B[0;34m)\u001B[0m\u001B[0;34m\u001B[0m\u001B[0;34m\u001B[0m\u001B[0m\n\u001B[0;32m---> 30\u001B[0;31m         \u001B[0mverba\u001B[0m\u001B[0;34m(\u001B[0m\u001B[0;34m)\u001B[0m\u001B[0;34m\u001B[0m\u001B[0;34m\u001B[0m\u001B[0m\n\u001B[0m\u001B[1;32m     31\u001B[0m \u001B[0;34m\u001B[0m\u001B[0m\n\u001B[1;32m     32\u001B[0m         \u001B[0;32mif\u001B[0m \u001B[0mmdp\u001B[0m\u001B[0;34m.\u001B[0m\u001B[0mis_episodic\u001B[0m\u001B[0;34m(\u001B[0m\u001B[0;34m)\u001B[0m\u001B[0;34m:\u001B[0m\u001B[0;34m\u001B[0m\u001B[0;34m\u001B[0m\u001B[0m\n",
      "\u001B[0;32m~/PycharmProjects/ColosseumOfficial/colosseum/utils/loops.py\u001B[0m in \u001B[0;36m<lambda>\u001B[0;34m()\u001B[0m\n\u001B[1;32m     19\u001B[0m     \u001B[0;31m# ), \"Custom MDPs do not have a textual representation so are not currently supported for the human_loop.\"\u001B[0m\u001B[0;34m\u001B[0m\u001B[0;34m\u001B[0m\u001B[0;34m\u001B[0m\u001B[0m\n\u001B[1;32m     20\u001B[0m \u001B[0;34m\u001B[0m\u001B[0m\n\u001B[0;32m---> 21\u001B[0;31m     \u001B[0mverba\u001B[0m \u001B[0;34m=\u001B[0m \u001B[0;32mlambda\u001B[0m\u001B[0;34m:\u001B[0m \u001B[0mprint\u001B[0m\u001B[0;34m(\u001B[0m\u001B[0mmdp\u001B[0m\u001B[0;34m.\u001B[0m\u001B[0mget_grid_representation\u001B[0m\u001B[0;34m(\u001B[0m\u001B[0mmdp\u001B[0m\u001B[0;34m.\u001B[0m\u001B[0mcur_node\u001B[0m\u001B[0;34m)\u001B[0m\u001B[0;34m)\u001B[0m\u001B[0;34m\u001B[0m\u001B[0;34m\u001B[0m\u001B[0m\n\u001B[0m\u001B[1;32m     22\u001B[0m \u001B[0;34m\u001B[0m\u001B[0m\n\u001B[1;32m     23\u001B[0m     \u001B[0mprint\u001B[0m\u001B[0;34m(\u001B[0m\u001B[0;34m\"Start calculating the optimal policy\"\u001B[0m\u001B[0;34m)\u001B[0m\u001B[0;34m\u001B[0m\u001B[0;34m\u001B[0m\u001B[0m\n",
      "\u001B[0;31mTypeError\u001B[0m: get_grid_representation() missing 1 required positional argument: 'h'"
     ]
    }
   ],
   "source": [
    "num_states = 4\n",
    "num_actions = 2\n",
    "\n",
    "T = np.zeros((num_states, num_actions, num_states), dtype=np.float32)\n",
    "T[0, 0, 1] = 1.0\n",
    "T[0, 1, 2] = 1.0\n",
    "\n",
    "T[1, 0, 2] = T[1, 0, 3] = 0.5\n",
    "T[1, 1, 2] = T[1, 1, 3] = 0.1\n",
    "T[1, 1, 1] = 0.8\n",
    "\n",
    "T[2, 0, 1] = T[2, 0, 3] = 0.5\n",
    "T[2, 1, 1] = T[2, 1, 3] = 0.1\n",
    "T[2, 1, 2] = 0.8\n",
    "\n",
    "T[3, 0, 0] = 0.5\n",
    "T[3, 0, 1] = T[3, 0, 2] = 0.25\n",
    "T[3, 1, 0] = 0.1\n",
    "T[3, 1, 1] = T[3, 1, 2] = 0.1\n",
    "T[3, 1, 3] = 0.7\n",
    "\n",
    "np.random.seed(42)\n",
    "# You can define the reward distribution as a dictionary\n",
    "R = {\n",
    "    (s, a): beta(np.random.uniform(0, 30), np.random.uniform(0, 30))\n",
    "    for s in range(num_states)\n",
    "    for a in range(num_actions)\n",
    "}\n",
    "# or as a matrix whose entries correspond to the expected value of the reward\n",
    "# R = np.random.rand(num_states, num_actions)\n",
    "\n",
    "# The starting state distribution must be specified as a dictionary whose keys are the starting states\n",
    "# and whose values are the corresponding probabilities.\n",
    "T_0 = {0: 1.0}\n",
    "\n",
    "# The episodic version\n",
    "mdp = CustomEpisodic(\n",
    "    seed=42,\n",
    "    T_0=T_0,\n",
    "    T=T,\n",
    "    R=R,\n",
    ")\n",
    "human_loop(mdp)\n",
    "\n",
    "# The continuous case\n",
    "mdp = CustomContinuous(\n",
    "    seed=42,\n",
    "    T_0=T_0,\n",
    "    T=T,\n",
    "    R=R,\n",
    ")\n",
    "human_loop(mdp)"
   ]
  }
 ],
 "metadata": {
  "kernelspec": {
   "display_name": "Python 3",
   "language": "python",
   "name": "python3"
  },
  "language_info": {
   "codemirror_mode": {
    "name": "ipython",
    "version": 2
   },
   "file_extension": ".py",
   "mimetype": "text/x-python",
   "name": "python",
   "nbconvert_exporter": "python",
   "pygments_lexer": "ipython2",
   "version": "2.7.6"
  }
 },
 "nbformat": 4,
 "nbformat_minor": 0
}