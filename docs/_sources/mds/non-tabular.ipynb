{
 "cells": [
  {
   "cell_type": "markdown",
   "id": "40912cd5",
   "metadata": {},
   "source": [
    "# Non-Tabular Benchmarking\n",
    "\n",
    "`````{margin}\n",
    "````{dropdown} Necessary imports\n",
    "```{code-block} python\n",
    "from matplotlib import pyplot as plt\n",
    "\n",
    "from colosseum.agent.agents.infinite_horizon import (\n",
    "    DQNContinuous,\n",
    "    ActorCriticContinuous,\n",
    ")\n",
    "from colosseum.agent.utils import sample_agent_hyperparameters\n",
    "from colosseum.benchmark import ColosseumDefaultBenchmark\n",
    "from colosseum.emission_maps import (\n",
    "    OneHotEncoding,\n",
    "    StateLinearOptimal,\n",
    "    StateLinearRandom,\n",
    "    TensorEncoding,\n",
    "    ImageEncoding,\n",
    "    StateInfo,\n",
    ")\n",
    "from colosseum.experiment.agent_mdp_interaction import MDPLoop\n",
    "from colosseum.mdp.simple_grid import SimpleGridContinuous\n",
    "from colosseum.utils import make_mdp_spec\n",
    "```\n",
    "````\n",
    "`````"
   ]
  },
  {
   "cell_type": "code",
   "execution_count": 1,
   "id": "dc800750",
   "metadata": {
    "tags": [
     "remove-output",
     "remove-input"
    ]
   },
   "outputs": [],
   "source": [
    "import os\n",
    "os.environ[\"TF_CPP_MIN_LOG_LEVEL\"] = \"3\"\n",
    "\n",
    "import tensorflow as tf\n",
    "\n",
    "physical_devices = tf.config.list_physical_devices(\"GPU\")\n",
    "try:\n",
    "    # Disable all GPUS\n",
    "    tf.config.set_visible_devices([], \"GPU\")\n",
    "    visible_devices = tf.config.get_visible_devices()\n",
    "    for device in visible_devices:\n",
    "        assert device.device_type != \"GPU\"\n",
    "except:\n",
    "    # Invalid device or cannot modify virtual devices once initialized.\n",
    "    pass\n",
    "\n",
    "from matplotlib import pyplot as plt\n",
    "\n",
    "from colosseum.agent.agents.infinite_horizon import (\n",
    "    DQNContinuous,\n",
    "    ActorCriticContinuous,\n",
    ")\n",
    "from colosseum.agent.utils import sample_agent_hyperparameters\n",
    "from colosseum.benchmark import ColosseumDefaultBenchmark\n",
    "from colosseum.emission_maps import (\n",
    "    OneHotEncoding,\n",
    "    StateLinearOptimal,\n",
    "    StateLinearRandom,\n",
    "    TensorEncoding,\n",
    "    ImageEncoding,\n",
    "    StateInfo,\n",
    ")\n",
    "from colosseum.experiment.agent_mdp_interaction import MDPLoop\n",
    "from colosseum.mdp.simple_grid import SimpleGridContinuous\n",
    "from colosseum.utils import make_mdp_spec"
   ]
  },
  {
   "cell_type": "markdown",
   "id": "9ad4b4dd",
   "metadata": {},
   "source": [
    "{{col}} is primarily developed for the tabular {{rl}} setting.\n",
    "However, as our goal is to develop principled non-tabular benchmarks, we offer a way to test non-tabular {{rl}}\n",
    "algorithms on the default {{col}} benchmark. Although our benchmark defines a challenge that is well characterized for\n",
    "tabular agents, we believe that it can provide valuable insights into the performance of non-tabular algorithms.\n",
    "\n",
    "The _BlockMDP_ model {cite}`du2019provably` defines non-tabular versions of tabular MDPs.\n",
    "A BlockMDP is a tuple $\\left(\\mathcal S, \\mathcal A, P, P_0, R, \\mathcal O, q\\right)$, where\n",
    "$\\mathcal S$ is the tabular state space,\n",
    "$\\mathcal A$ is the action space,\n",
    "$P$ is the transition kernel,\n",
    "$P_0$ is the starting state distribution,\n",
    "$R$ is the reward kernel,\n",
    "$\\mathcal O$ is the non-tabular observation space, and\n",
    "$q : \\mathcal S \\to \\Delta(\\mathcal O)$ is a (possibly stochastic) _emission map_ that associates a distribution over the observation\n",
    "space to each state in the MDP.\n",
    "Note that the agent is not provided with any information on the state space $\\mathcal S$.\n",
    "\n",
    "Six deterministic emission maps are available. We present them below for the\n",
    "[``SimpleGridContinuous``](../pdoc_files/colosseum/mdp/simple_grid/base.html#SimpleGridContinuous) MDP class.\n",
    "\n",
    "**One-hot encoding**  \n",
    "The [`OneHotEncoding`](../pdoc_files/colosseum/emission_maps/one_hot_encoding.html#OneHotEncoding) emission map assigns\n",
    "to each state a feature vector that is filled with zeros except for an index that uniquely corresponds to the state."
   ]
  },
  {
   "cell_type": "code",
   "execution_count": 2,
   "id": "8f21ec66",
   "metadata": {},
   "outputs": [
    {
     "name": "stdout",
     "output_type": "stream",
     "text": [
      "Observation for the OneHotEncoding emission map.\n",
      "[[1. 0. 0. 0. 0. 0. 0. 0. 0. 0. 0. 0. 0. 0. 0. 0.]]\n"
     ]
    }
   ],
   "source": [
    "mdp = SimpleGridContinuous(seed=42, size=4, emission_map=OneHotEncoding)\n",
    "ts = mdp.reset()\n",
    "\n",
    "print(\"Observation for the OneHotEncoding emission map.\")\n",
    "print(ts.observation)"
   ]
  },
  {
   "cell_type": "markdown",
   "id": "c959ba7f",
   "metadata": {},
   "source": [
    "**Linear optimal value**  \n",
    "The [`StateLinearOptimal`](../pdoc_files/colosseum/emission_maps/state_linear_optimal.html#StateLinearOptimal)\n",
    "emission map assigns to each state a feature vector $\\phi(s)$ that enables linear representation of the optimal value\n",
    "function. In other words, there is a $\\theta$ such that $V^*(s) = \\theta^T\\phi(s)$."
   ]
  },
  {
   "cell_type": "code",
   "execution_count": 3,
   "id": "4761bef6",
   "metadata": {},
   "outputs": [
    {
     "name": "stdout",
     "output_type": "stream",
     "text": [
      "Observation for the StateLinearOptimal emission map.\n",
      "[[ 0.25  0.64  0.37 -0.11 -0.27  0.23  0.53 -0.07 -0.6  -0.08]]\n"
     ]
    }
   ],
   "source": [
    "mdp = SimpleGridContinuous(seed=42, size=4, emission_map=StateLinearOptimal)\n",
    "ts = mdp.reset()\n",
    "\n",
    "print(\"Observation for the StateLinearOptimal emission map.\")\n",
    "print(ts.observation.round(2))"
   ]
  },
  {
   "cell_type": "markdown",
   "id": "3eb28c07",
   "metadata": {},
   "source": [
    "**Linear random value**  \n",
    "The [`StateLinearRandom`](../pdoc_files/colosseum/emission_maps/state_linear_random.html#StateLinearRandom)\n",
    "emission map assigns to each state a feature vector $\\phi(s)$ that enables linear representation of the value function\n",
    "of the randomly acting policy. In other words, there is a $\\theta$ such that $V^\\pi(s) = \\theta^T\\phi(s)$, where $\\pi$\n",
    "is the randomly acting policy."
   ]
  },
  {
   "cell_type": "code",
   "execution_count": 4,
   "id": "613a9474",
   "metadata": {},
   "outputs": [
    {
     "name": "stdout",
     "output_type": "stream",
     "text": [
      "Observation for the StateLinearRandom emission map.\n",
      "[[ 0.25 -0.19  0.03  0.18 -0.06  0.09  0.39 -0.08 -0.19  0.29]]\n"
     ]
    }
   ],
   "source": [
    "mdp = SimpleGridContinuous(seed=42, size=4, emission_map=StateLinearRandom)\n",
    "ts = mdp.reset()\n",
    "\n",
    "print(\"Observation for the StateLinearRandom emission map.\")\n",
    "print(ts.observation.round(2))"
   ]
  },
  {
   "cell_type": "markdown",
   "id": "cd1c73bb",
   "metadata": {},
   "source": [
    "Before presenting the `StateInfo`, `ImageEncoding`, and `TensorEncoding` emission maps, we review the textual\n",
    "representation of the `SimpleGridContinuous`, which is used by those emission maps."
   ]
  },
  {
   "cell_type": "code",
   "execution_count": 5,
   "id": "a7170e56",
   "metadata": {},
   "outputs": [
    {
     "name": "stdout",
     "output_type": "stream",
     "text": [
      "Textual representation.\n",
      "[['+' ' ' ' ' '-']\n",
      " [' ' 'A' ' ' ' ']\n",
      " [' ' ' ' ' ' ' ']\n",
      " ['-' ' ' ' ' '+']]\n"
     ]
    }
   ],
   "source": [
    "mdp = SimpleGridContinuous(seed=42, size=4)\n",
    "mdp.reset()\n",
    "print(\"Textual representation.\")\n",
    "print(mdp.get_grid_representation(mdp.cur_node))"
   ]
  },
  {
   "cell_type": "markdown",
   "id": "21a58508",
   "metadata": {},
   "source": [
    "The letter A encodes the position of the agent and the symbols $+$ and $-$\n",
    "represent the states that yield large reward and zero reward.\n",
    "\n",
    "**State information**  \n",
    "The [`StateInfo`](../pdoc_files/colosseum/emission_maps/state_info.html#StateInfo) emission map assigns to each state\n",
    "a feature vector that contains uniquely identifying information about the state (e.g., coordinates for the DeepSea family)."
   ]
  },
  {
   "cell_type": "code",
   "execution_count": 6,
   "id": "c4fc10b0",
   "metadata": {},
   "outputs": [
    {
     "name": "stdout",
     "output_type": "stream",
     "text": [
      "Observation for the StateInfo emission map.\n",
      "[[1. 2.]]\n"
     ]
    }
   ],
   "source": [
    "mdp = SimpleGridContinuous(seed=42, size=4, emission_map=StateInfo)\n",
    "ts = mdp.reset()\n",
    "\n",
    "print(\"Observation for the StateInfo emission map.\")\n",
    "print(ts.observation)"
   ]
  },
  {
   "cell_type": "markdown",
   "id": "de738b87",
   "metadata": {},
   "source": [
    "The observation vector corresponds to the x and y coordinates of the position of the agent.\n",
    "\n",
    "**Image encoding**  \n",
    "The [`ImageEncoding`](../pdoc_files/colosseum/emission_maps/image_encoding.html#ImageEncoding) emission map assigns to\n",
    "each state a feature vector that contains uniquely identifying information about the state (e.g., coordinates for the\n",
    "`DeepSea` mdp class)."
   ]
  },
  {
   "cell_type": "code",
   "execution_count": 7,
   "id": "7d6f8b38",
   "metadata": {},
   "outputs": [
    {
     "name": "stdout",
     "output_type": "stream",
     "text": [
      "Observation for the ImageEncoding emission map.\n",
      "[[[2. 0. 0. 3.]\n",
      "  [0. 1. 0. 0.]\n",
      "  [0. 0. 0. 0.]\n",
      "  [3. 0. 0. 2.]]]\n"
     ]
    }
   ],
   "source": [
    "mdp = SimpleGridContinuous(seed=42, size=4, emission_map=ImageEncoding)\n",
    "ts = mdp.reset()\n",
    "\n",
    "print(\"Observation for the ImageEncoding emission map.\")\n",
    "print(ts.observation)"
   ]
  },
  {
   "cell_type": "markdown",
   "id": "bbb7a62a",
   "metadata": {},
   "source": [
    "In the observation matrix, $1$ corresponds to the position of the agent, $2$ to positive rewarding states, and $3$ to\n",
    "non-rewarding states. The rest of the matrix is filled with zeros.\n",
    "\n",
    "**Tensor encoding**  \n",
    "The [`TensorEncoding`](../pdoc_files/colosseum/emission_maps/tensor_encoding.html#TensorEncoding) emission map assigns\n",
    "to each state a tensor composed of the concatenation of matrices that one-hot encode the presence of a symbol in the\n",
    "corresponding indices. For example, for the DeepSea family, the tensor is composed of a matrix that encodes the position\n",
    "of the agent and a matrix that encodes the positions of white spaces."
   ]
  },
  {
   "cell_type": "code",
   "execution_count": 8,
   "id": "b2cb2aff",
   "metadata": {},
   "outputs": [
    {
     "name": "stdout",
     "output_type": "stream",
     "text": [
      "Observation for the TensorEncoding emission map.\n",
      "[[[[0. 0. 1. 0.]\n",
      "   [1. 0. 0. 0.]\n",
      "   [1. 0. 0. 0.]\n",
      "   [0. 0. 0. 1.]]\n",
      "\n",
      "  [[1. 0. 0. 0.]\n",
      "   [0. 1. 0. 0.]\n",
      "   [1. 0. 0. 0.]\n",
      "   [1. 0. 0. 0.]]\n",
      "\n",
      "  [[1. 0. 0. 0.]\n",
      "   [1. 0. 0. 0.]\n",
      "   [1. 0. 0. 0.]\n",
      "   [1. 0. 0. 0.]]\n",
      "\n",
      "  [[0. 0. 0. 1.]\n",
      "   [1. 0. 0. 0.]\n",
      "   [1. 0. 0. 0.]\n",
      "   [0. 0. 1. 0.]]]]\n"
     ]
    }
   ],
   "source": [
    "mdp = SimpleGridContinuous(seed=42, size=4, emission_map=TensorEncoding)\n",
    "ts = mdp.reset()\n",
    "\n",
    "print(\"Observation for the TensorEncoding emission map.\")\n",
    "print(ts.observation)"
   ]
  },
  {
   "cell_type": "markdown",
   "id": "88d2375c",
   "metadata": {},
   "source": [
    "Similarly to the ImageEncoding emission map, each element of the textual representation is encoded differently.\n",
    "In the TensorEncoding emission map, a one-hot encoding is used.\n",
    "\n",
    "\n",
    "## Non-tabular agent/MDP interactions\n",
    "Analysing the performances of non-tabular agents follows the same API of the tabular case.\n",
    "We present an example below."
   ]
  },
  {
   "cell_type": "code",
   "execution_count": 9,
   "id": "5985475e",
   "metadata": {},
   "outputs": [
    {
     "data": {
      "image/png": "[encoded data removed]",
      "text/plain": [
       "<Figure size 1200x400 with 1 Axes>"
      ]
     },
     "metadata": {
      "filenames": {
       "image/png": "/home/michelangelo/PycharmProjects/ColosseumDocumentation/_build/jupyter_execute/mds/non-tabular_17_0.png"
      }
     },
     "output_type": "display_data"
    }
   ],
   "source": [
    "seed = 1\n",
    "optimization_horizon = 2_000\n",
    "\n",
    "# Instantiate the MDP\n",
    "mdp = SimpleGridContinuous(seed=42, size=4, emission_map=TensorEncoding)\n",
    "\n",
    "# DQN\n",
    "boot_dqn = DQNContinuous(\n",
    "    seed=seed,\n",
    "    mdp_specs=make_mdp_spec(mdp),\n",
    "    optimization_horizon=optimization_horizon,\n",
    "    **sample_agent_hyperparameters(DQNContinuous, seed),\n",
    ")\n",
    "\n",
    "# Perform the agent/MDP interaction\n",
    "loop_dqn = MDPLoop(mdp, boot_dqn)\n",
    "loop_dqn.run(T=optimization_horizon, log_every=10)\n",
    "\n",
    "# ActorCritic\n",
    "actor_critic = ActorCriticContinuous(\n",
    "    mdp_specs=make_mdp_spec(mdp),\n",
    "    seed=seed,\n",
    "    optimization_horizon=optimization_horizon,\n",
    "    **sample_agent_hyperparameters(ActorCriticContinuous, seed),\n",
    ")\n",
    "loop_ac = MDPLoop(mdp, actor_critic)\n",
    "loop_ac.run(T=optimization_horizon, log_every=10)\n",
    "\n",
    "# Plot the cumulative regret of the agents\n",
    "fig, ax = plt.subplots(1, 1, figsize=(12, 4))\n",
    "loop_dqn.plot(ax=ax, baselines=[])\n",
    "loop_ac.plot(ax=ax)\n",
    "plt.show()"
   ]
  },
  {
   "cell_type": "markdown",
   "id": "616a21bb",
   "metadata": {},
   "source": [
    "## Non-tabular hyperparameters optimization and benchmarking\n",
    "Similarly, the hyperparameters optimization and benchmarking procedures for the non-tabular setting can be carried out\n",
    "in the exact same way as for the tabular case.\n",
    "\n",
    "In order to obtain the default {{col}} benchmarks, it is only required to set `non_tabular=True` when calling the\n",
    "`get_benchmark` function as shown below.\n",
    "```{code-block} python\n",
    "ColosseumDefaultBenchmark.CONTINUOUS_ERGODIC.get_benchmark(\n",
    "    \"non_tabular_ce\", non_tabular=True\n",
    ")\n",
    "```\n",
    "\n",
    "\n",
    "```{bibliography}\n",
    ":filter: docname in docnames\n",
    "```"
   ]
  }
 ],
 "metadata": {
  "jupytext": {
   "formats": "md:myst",
   "text_representation": {
    "extension": ".md",
    "format_name": "myst"
   }
  },
  "kernelspec": {
   "display_name": "Python 3",
   "language": "python",
   "name": "python3"
  },
  "language_info": {
   "codemirror_mode": {
    "name": "ipython",
    "version": 3
   },
   "file_extension": ".py",
   "mimetype": "text/x-python",
   "name": "python",
   "nbconvert_exporter": "python",
   "pygments_lexer": "ipython3",
   "version": "3.9.13"
  },
  "source_map": [
   11,
   40,
   77,
   102,
   108,
   114,
   120,
   127,
   133,
   137,
   142,
   149,
   155,
   162,
   168,
   177,
   183,
   193,
   227
  ]
 },
 "nbformat": 4,
 "nbformat_minor": 5
}