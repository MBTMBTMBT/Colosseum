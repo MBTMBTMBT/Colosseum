{
 "cells": [
  {
   "cell_type": "markdown",
   "id": "cc664142",
   "metadata": {},
   "source": [
    "# Create Custom Benchmarks\n",
    "\n",
    "`````{margin}\n",
    "````{dropdown} Necessary imports\n",
    "```{code-block} python\n",
    "from dataclasses import dataclass\n",
    "from typing import Type\n",
    "\n",
    "from colosseum.emission_maps import EmissionMap\n",
    "from colosseum import config\n",
    "from colosseum.agent.agents.episodic import PSRLEpisodic\n",
    "from colosseum.agent.agents.infinite_horizon import QLearningContinuous\n",
    "from colosseum.agent.utils import sample_agent_gin_configs\n",
    "from colosseum.benchmark.benchmark import ColosseumBenchmark\n",
    "from colosseum.experiment import ExperimentConfig\n",
    "from colosseum.utils.miscellanea import sample_mdp_gin_configs\n",
    "from colosseum.utils.miscellanea import get_colosseum_mdp_classes\n",
    "from colosseum.benchmark.utils import get_mdps_configs_from_mdps\n",
    "from colosseum.mdp.deep_sea import DeepSeaEpisodic\n",
    "from colosseum.mdp.frozen_lake import FrozenLakeEpisodic\n",
    "from colosseum.mdp.minigrid_empty import MiniGridEmptyContinuous\n",
    "from colosseum.mdp.simple_grid import SimpleGridContinuous\n",
    "from colosseum.agent.utils import sample_agent_gin_configs_file\n",
    "from colosseum.utils.miscellanea import sample_mdp_gin_configs_file\n",
    "from colosseum.benchmark import ColosseumDefaultBenchmark\n",
    "\n",
    "# Configuring the directories for the package\n",
    "experiment_folder = \"tutorial\"\n",
    "experiment_name = \"custom_benchmark\"\n",
    "config.set_experiments_folder(experiment_folder, experiment_name)\n",
    "config.set_hyperopt_folder(experiment_folder, experiment_name)\n",
    "seed = 42\n",
    "```\n",
    "````\n",
    "`````"
   ]
  },
  {
   "cell_type": "code",
   "execution_count": 1,
   "id": "d3514361",
   "metadata": {
    "tags": [
     "remove-output",
     "remove-input"
    ]
   },
   "outputs": [
    {
     "name": "stderr",
     "output_type": "stream",
     "text": [
      "2022-10-23 20:09:45.168639: I tensorflow/core/platform/cpu_feature_guard.cc:193] This TensorFlow binary is optimized with oneAPI Deep Neural Network Library (oneDNN) to use the following CPU instructions in performance-critical operations:  AVX2 FMA\n",
      "To enable them in other operations, rebuild TensorFlow with the appropriate compiler flags.\n",
      "2022-10-23 20:09:45.252820: E tensorflow/stream_executor/cuda/cuda_blas.cc:2981] Unable to register cuBLAS factory: Attempting to register factory for plugin cuBLAS when one has already been registered\n"
     ]
    },
    {
     "name": "stderr",
     "output_type": "stream",
     "text": [
      "2022-10-23 20:09:45.613315: W tensorflow/stream_executor/platform/default/dso_loader.cc:64] Could not load dynamic library 'libnvinfer.so.7'; dlerror: libnvinfer.so.7: cannot open shared object file: No such file or directory\n",
      "2022-10-23 20:09:45.613357: W tensorflow/stream_executor/platform/default/dso_loader.cc:64] Could not load dynamic library 'libnvinfer_plugin.so.7'; dlerror: libnvinfer_plugin.so.7: cannot open shared object file: No such file or directory\n",
      "2022-10-23 20:09:45.613361: W tensorflow/compiler/tf2tensorrt/utils/py_utils.cc:38] TF-TRT Warning: Cannot dlopen some TensorRT libraries. If you would like to use Nvidia GPU with TensorRT, please make sure the missing libraries mentioned above are installed properly.\n"
     ]
    }
   ],
   "source": [
    "from dataclasses import dataclass\n",
    "from typing import Type\n",
    "\n",
    "from colosseum.emission_maps import EmissionMap\n",
    "from colosseum import config\n",
    "from colosseum.agent.agents.episodic import PSRLEpisodic\n",
    "from colosseum.agent.agents.infinite_horizon import QLearningContinuous\n",
    "from colosseum.agent.utils import sample_agent_gin_configs\n",
    "from colosseum.benchmark.benchmark import ColosseumBenchmark\n",
    "from colosseum.experiment import ExperimentConfig\n",
    "from colosseum.utils.miscellanea import sample_mdp_gin_configs\n",
    "from colosseum.utils.miscellanea import get_colosseum_mdp_classes\n",
    "from colosseum.benchmark.utils import get_mdps_configs_from_mdps\n",
    "from colosseum.mdp.deep_sea import DeepSeaEpisodic\n",
    "from colosseum.mdp.frozen_lake import FrozenLakeEpisodic\n",
    "from colosseum.mdp.minigrid_empty import MiniGridEmptyContinuous\n",
    "from colosseum.mdp.simple_grid import SimpleGridContinuous\n",
    "from colosseum.agent.utils import sample_agent_gin_configs_file\n",
    "from colosseum.utils.miscellanea import sample_mdp_gin_configs_file\n",
    "from colosseum.benchmark import ColosseumDefaultBenchmark\n",
    "\n",
    "# Configuring the directories for the package\n",
    "experiment_folder = \"tutorial\"\n",
    "experiment_name = \"custom_benchmark\"\n",
    "config.set_experiments_folder(experiment_folder, experiment_name)\n",
    "config.set_hyperopt_folder(experiment_folder, experiment_name)\n",
    "seed = 42"
   ]
  },
  {
   "cell_type": "markdown",
   "id": "cd379b3c",
   "metadata": {},
   "source": [
    "In addition to the default benchmark, it is possible to create custom benchmarks.\n",
    "\n",
    "To create a custom benchmark, we instantiate a\n",
    "[`ColosseumBenchmark`](../pdoc_files/colosseum/benchmark/benchmark.html#ColosseumBenchmark) object, which requires\n",
    "the parameters for the environments that will constitute the benchmark and\n",
    "the settings that regulates the agent/MDP interactions, which are stored in\n",
    "an [`ExperimentConfig`](../pdoc_files/colosseum/experiment/config.html#ExperimentConfig) object.\n",
    "\n",
    "We define a configuration that results in a small number of short agent/MDP interactions."
   ]
  },
  {
   "cell_type": "code",
   "execution_count": 2,
   "id": "efb9b2bd",
   "metadata": {
    "tags": [
     "remove-output"
    ]
   },
   "outputs": [],
   "source": [
    "experiment_config = ExperimentConfig(\n",
    "    n_seeds=1,\n",
    "    n_steps=5_000,\n",
    "    max_interaction_time_s=30,\n",
    "    log_performance_indicators_every=1000,\n",
    ")"
   ]
  },
  {
   "cell_type": "markdown",
   "id": "e5e7633f",
   "metadata": {},
   "source": [
    "<h4> MDP configurations </h4>\n",
    "\n",
    "There are three ways to create environments configurations that can be used to create a custom benchmark.\n",
    "\n",
    "<h5> Random sampling </h5>\n",
    "\n",
    "Each {{col}} environment class implements a function to randomly sample parameters that are mainly used for the hyperparameters optimization procedure of the agents.\n",
    "Nonetheless, we can sample such configurations to create our custom benchmark."
   ]
  },
  {
   "cell_type": "code",
   "execution_count": 3,
   "id": "69fd5d75",
   "metadata": {},
   "outputs": [],
   "source": [
    "# Get all the episodic MDP Colosseum classes\n",
    "episodic_mdp_classes = get_colosseum_mdp_classes(episodic=True)\n",
    "\n",
    "mdps_configs = dict()\n",
    "for cl in episodic_mdp_classes:\n",
    "    # For each episodic MDP class, we sample a single configuration\n",
    "    mdps_configs[cl] = sample_mdp_gin_configs_file(cl, n=1, seed=seed)\n",
    "\n",
    "# We define the benchmark object with the sampled MDP configs and the previously defined experiment config\n",
    "benchmark = ColosseumBenchmark(\n",
    "    name=\"episodic_randomly_sampled\", mdps_gin_configs=mdps_configs, experiment_config=experiment_config\n",
    ")"
   ]
  },
  {
   "cell_type": "markdown",
   "id": "9e124bc4",
   "metadata": {},
   "source": [
    "<h5> Default benchmark instances </h5>\n",
    "\n",
    "We can also borrow the MDP instances from the default benchmark, and maybe modify them."
   ]
  },
  {
   "cell_type": "code",
   "execution_count": 4,
   "id": "4eb3ccc5",
   "metadata": {},
   "outputs": [],
   "source": [
    "# Instantiate the episodic ergodic benchmark and take its MDP configurations\n",
    "mdps_configs = ColosseumDefaultBenchmark.EPISODIC_ERGODIC.get_benchmark().mdps_gin_configs\n",
    "\n",
    "# Save the configurations in a new ColosseumBenchmark object with a custom name and the previously defined experiment config\n",
    "benchmark = ColosseumBenchmark(\"borrowing_from_default\", mdps_configs, experiment_config)"
   ]
  },
  {
   "cell_type": "markdown",
   "id": "a4baec9a",
   "metadata": {},
   "source": [
    "<h5> Configurations from MDP instances </h5>\n",
    "\n",
    "Finally, we can obtain environment configurations directly from instances."
   ]
  },
  {
   "cell_type": "code",
   "execution_count": 5,
   "id": "be168c0f",
   "metadata": {},
   "outputs": [],
   "source": [
    "# Define a list of MDP instance\n",
    "mdps = [\n",
    "    DeepSeaEpisodic(seed=4, size=10, p_rand=0.4),\n",
    "    FrozenLakeEpisodic(seed=4, size=5, p_frozen=0.8),\n",
    "]\n",
    "# from which we can obtain the configurations from\n",
    "mdps_configs = get_mdps_configs_from_mdps(mdps)\n",
    "\n",
    "benchmark = ColosseumBenchmark(\"custom_mdp_instances\", mdps_configs, experiment_config)"
   ]
  },
  {
   "cell_type": "code",
   "execution_count": 6,
   "id": "723f0e5d",
   "metadata": {
    "tags": [
     "remove-input",
     "remove-output"
    ]
   },
   "outputs": [],
   "source": [
    "import shutil\n",
    "shutil.rmtree(config.get_experiments_folder())"
   ]
  }
 ],
 "metadata": {
  "jupytext": {
   "formats": "md:myst",
   "text_representation": {
    "extension": ".md",
    "format_name": "myst"
   }
  },
  "kernelspec": {
   "display_name": "Python 3",
   "language": "python",
   "name": "python3"
  },
  "language_info": {
   "codemirror_mode": {
    "name": "ipython",
    "version": 3
   },
   "file_extension": ".py",
   "mimetype": "text/x-python",
   "name": "python",
   "nbconvert_exporter": "python",
   "pygments_lexer": "ipython3",
   "version": "3.9.13"
  },
  "source_map": [
   11,
   47,
   76,
   87,
   95,
   106,
   119,
   125,
   131,
   138,
   150
  ]
 },
 "nbformat": 4,
 "nbformat_minor": 5
}