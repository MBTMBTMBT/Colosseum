{
 "cells": [
  {
   "cell_type": "markdown",
   "id": "1f3f17c4",
   "metadata": {},
   "source": [
    "# Configure Colosseum\n",
    "\n",
    "`````{margin}\n",
    "````{dropdown} Necessary imports\n",
    "```{code-block} python\n",
    "from colosseum import config\n",
    "```\n",
    "````\n",
    "`````"
   ]
  },
  {
   "cell_type": "code",
   "execution_count": 1,
   "id": "aeb07baf",
   "metadata": {
    "tags": [
     "remove-output",
     "remove-input"
    ]
   },
   "outputs": [],
   "source": [
    "from colosseum import config"
   ]
  },
  {
   "cell_type": "markdown",
   "id": "f4bcf994",
   "metadata": {},
   "source": [
    "{{col}} allows configuring global directories for the hyperparameters optimization and the benchmarking procedures,\n",
    "the settings regarding multiprocessing, and some other functionalities.\n",
    "The <a href=\"../pdoc_files/colosseum/config.html\">``config``</a> module provide the configuring functions.\n",
    "\n",
    "\n",
    "<h3> Configuring directories </h3>\n",
    "\n",
    "**Benchmarking**\n",
    "\n",
    "As a running example, we assume that the goal is to run the **tabular** benchmark separately for some **model-free** and \n",
    "**model-based** agents.\n",
    "So we'll create a main experiment folder called tabular and two sub-folders for the two types of agents."
   ]
  },
  {
   "cell_type": "code",
   "execution_count": 2,
   "id": "960e950c",
   "metadata": {},
   "outputs": [],
   "source": [
    "main_experiments_folder = \"tabular\""
   ]
  },
  {
   "cell_type": "markdown",
   "id": "c95ffdc4",
   "metadata": {},
   "source": [
    "When we benchmark the model-free agents, we set the name of the experiment as `model-free` and communicate it to {{col}}."
   ]
  },
  {
   "cell_type": "code",
   "execution_count": 3,
   "id": "c0e9197e",
   "metadata": {},
   "outputs": [
    {
     "name": "stdout",
     "output_type": "stream",
     "text": [
      "Model-free experiment folder:  tabular/benchmarking/model_free/\n",
      "Model-free hyperoptimization folder tabular/hyperopt/model_free/\n"
     ]
    }
   ],
   "source": [
    "current_experiment_folder_name = \"model_free\"\n",
    "\n",
    "# Set the experiment folder and the related hyperoptimization folder\n",
    "config.set_experiments_folder(main_experiments_folder, current_experiment_folder_name)\n",
    "config.set_hyperopt_folder(main_experiments_folder, current_experiment_folder_name)\n",
    "\n",
    "# Show the folder structure for the benchmarking results and for the hyperparameters optimizations results\n",
    "print(\"Model-free experiment folder: \", config.get_experiments_folder())\n",
    "print(\"Model-free hyperoptimization folder\", config.get_hyperopt_folder())\n",
    "\n",
    "# Code for benchamrking the model-free agents goes here"
   ]
  },
  {
   "cell_type": "markdown",
   "id": "870f3aa2",
   "metadata": {},
   "source": [
    "When instead we benchmark the model-based agents, we set the name of the experiment as `model-based` and similarly communicate it to the package."
   ]
  },
  {
   "cell_type": "code",
   "execution_count": 4,
   "id": "6f73e6bb",
   "metadata": {},
   "outputs": [
    {
     "name": "stdout",
     "output_type": "stream",
     "text": [
      "Model-based experiment folder:  tabular/benchmarking/model_based/\n",
      "Model-based hyperoptimization folder tabular/hyperopt/model_based/\n"
     ]
    }
   ],
   "source": [
    "current_experiment_folder_name = \"model_based\"\n",
    "\n",
    "# Set the experiment folder and the related hyperoptimization folder\n",
    "config.set_experiments_folder(main_experiments_folder, current_experiment_folder_name)\n",
    "config.set_hyperopt_folder(main_experiments_folder, current_experiment_folder_name)\n",
    "\n",
    "# Show the folder structure for the benchmarking results and for the hyperparameters optimizations results\n",
    "print(\"Model-based experiment folder: \", config.get_experiments_folder())\n",
    "print(\"Model-based hyperoptimization folder\", config.get_hyperopt_folder())\n",
    "\n",
    "# Code for benchmarking the model-based agents goes here"
   ]
  },
  {
   "cell_type": "markdown",
   "id": "0a649819",
   "metadata": {},
   "source": [
    "**Hardness analysis**\n",
    "\n",
    "The package includes cached values of the hardness measures for the benchmark environments and automatically caches the\n",
    "values for new environments locally by creating a copy of the cached folder from the package."
   ]
  },
  {
   "cell_type": "code",
   "execution_count": 5,
   "id": "257efe5a",
   "metadata": {},
   "outputs": [
    {
     "name": "stdout",
     "output_type": "stream",
     "text": [
      "Default hardness measures cache folder:  cached_hardness_measures/\n"
     ]
    },
    {
     "name": "stdout",
     "output_type": "stream",
     "text": [
      "Custom hardness measures cache folder:  my_cached_hardness_measures_folder/\n"
     ]
    }
   ],
   "source": [
    "print(\"Default hardness measures cache folder: \", config.get_hardness_measures_cache_folder())\n",
    "\n",
    "# If you prefer, you can set a different folder path\n",
    "config.set_hardness_measures_cache_folder(\"my_cached_hardness_measures_folder\")\n",
    "print(\"Custom hardness measures cache folder: \", config.get_hardness_measures_cache_folder())"
   ]
  },
  {
   "cell_type": "markdown",
   "id": "a72ab42c",
   "metadata": {},
   "source": [
    "<h3> Verbosity </h3>\n",
    "\n",
    "{{col}} can provide verbose logging for the agent/MDP interaction, computing the hardness measures, and some time-consuming visualizations.\n",
    "Note that verbosity is turned off by default."
   ]
  },
  {
   "cell_type": "code",
   "execution_count": 6,
   "id": "10c4b52c",
   "metadata": {},
   "outputs": [],
   "source": [
    "# Enable verbosity\n",
    "config.enable_verbose_logging()\n",
    "# Disable verbosity\n",
    "config.disable_verbose_logging()"
   ]
  },
  {
   "cell_type": "markdown",
   "id": "68cb236a",
   "metadata": {},
   "source": [
    "<h3> Multiprocessing </h3>\n",
    "\n",
    "{{col}} can leverage multiple cores for benchmarking agents and computing hardness measures.\n",
    "Note that multiprocessing is turned off by default.\n",
    "\n",
    "When multiprocessing is enabled, {{col}} sets the number of available cores to the total number of cores available minus two."
   ]
  },
  {
   "cell_type": "code",
   "execution_count": 7,
   "id": "7de90fb1",
   "metadata": {},
   "outputs": [
    {
     "name": "stdout",
     "output_type": "stream",
     "text": [
      "Number of cores available to the package:  30\n"
     ]
    }
   ],
   "source": [
    "config.enable_multiprocessing()\n",
    "print(\"Number of cores available to the package: \", config.get_available_cores())"
   ]
  },
  {
   "cell_type": "markdown",
   "id": "4343c77b",
   "metadata": {},
   "source": [
    "However, it is possible to manually set the number of cores the package will use."
   ]
  },
  {
   "cell_type": "code",
   "execution_count": 8,
   "id": "a6a0f031",
   "metadata": {},
   "outputs": [
    {
     "name": "stdout",
     "output_type": "stream",
     "text": [
      "Number of cores available to the package:  5\n"
     ]
    }
   ],
   "source": [
    "config.set_available_cores(5)\n",
    "print(\"Number of cores available to the package: \", config.get_available_cores())"
   ]
  },
  {
   "cell_type": "markdown",
   "id": "8b8e8c49",
   "metadata": {},
   "source": [
    "Once multiprocessing has been enabled, it can be disabled."
   ]
  },
  {
   "cell_type": "code",
   "execution_count": 9,
   "id": "c72e2512",
   "metadata": {},
   "outputs": [
    {
     "name": "stdout",
     "output_type": "stream",
     "text": [
      "Number of cores available to the package:  1\n"
     ]
    }
   ],
   "source": [
    "# Disable multiprocessing\n",
    "config.disable_multiprocessing()\n",
    "print(\"Number of cores available to the package: \", config.get_available_cores())"
   ]
  },
  {
   "cell_type": "code",
   "execution_count": 10,
   "id": "3218056e",
   "metadata": {
    "tags": [
     "remove-input",
     "remove-output"
    ]
   },
   "outputs": [],
   "source": [
    "import shutil\n",
    "shutil.rmtree(\"tabular\")\n",
    "shutil.rmtree(config.get_hardness_measures_cache_folder())"
   ]
  }
 ],
 "metadata": {
  "jupytext": {
   "formats": "md:myst",
   "text_representation": {
    "extension": ".md",
    "format_name": "myst"
   }
  },
  "kernelspec": {
   "display_name": "Python 3",
   "language": "python",
   "name": "python3"
  },
  "language_info": {
   "codemirror_mode": {
    "name": "ipython",
    "version": 3
   },
   "file_extension": ".py",
   "mimetype": "text/x-python",
   "name": "python",
   "nbconvert_exporter": "python",
   "pygments_lexer": "ipython3",
   "version": "3.9.13"
  },
  "source_map": [
   11,
   21,
   24,
   39,
   41,
   44,
   56,
   59,
   71,
   78,
   84,
   92,
   97,
   106,
   109,
   112,
   115,
   118,
   124
  ]
 },
 "nbformat": 4,
 "nbformat_minor": 5
}