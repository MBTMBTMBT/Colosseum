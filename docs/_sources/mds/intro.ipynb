{
 "cells": [
  {
   "cell_type": "markdown",
   "id": "436eb9f2",
   "metadata": {},
   "source": [
    "# What is Colosseum?\n",
    "\n",
    "{{col}} is a pioneering Python package that creates a bridge between theory and practice in tabular reinforcement learning with an eye on the non-tabular setting.\n",
    "Have a look at the {doc}`Motivation <./manifesto>` section for a brief overview of the motivation behind the\n",
    "{{col}} project.\n",
    "\n",
    "<h4> Getting Started </h4>\n",
    "\n",
    "- [Installation](./installation)\n",
    "- [Quickstart](./quickstart)\n",
    "- **Tutorials**:\n",
    "  - [Configure {{col}}](./colosseum-configurations.md)\n",
    "  - [Inspect Agents Performances](./agent-performance-analysis.md)\n",
    "  - [Inspect Markov Decision Processes](./mdp-functionalities)\n",
    "  - [Visualize Markov Decision Processes](./mdp-visual-representations)\n",
    "  - [The {{col}} Benchmark](./benchmark-introduction.md)\n",
    "  - [Analyse Benchmarking Results](./benchmark-analysis.md)\n",
    "  - [Create Custom Benchmarks](./benchmark-custom.md)\n",
    "  - [Benchmark Agents](./benchmark-running.md)\n",
    "  - [Hyperparameters Optimization](./hyperopt.md)\n",
    "  - [Scale Benchmarking to a Cluster](./benchmark-running.md)\n",
    "  - [Empirical Hardness Analysis](./hardness-analysis.md)\n",
    "  - [Non-Tabular Benchmarking](./non-tabular.md)\n",
    "- [API Documentation](./api-reference.md)\n",
    "- [Contributions](./contributions.md)\n",
    "- [Discord channel](https://discord.gg/JBEezJgxGY)\n",
    "\n",
    "If you use {{col}} in your research, please cite the accompanying {{paper}}.\n",
    "\n",
    "``` {code-block} bibtex\n",
    "@inproceedings{conserva2022hardness,\n",
    "  title={Hardness in Markov Decision Processes: Theory and Practice},\n",
    "  author={Conserva, Michelangelo and Rauber, Paulo},\n",
    "  year={2022},\n",
    "  booktitle={Advances in Neural Information Processing Systems},\n",
    "}\n",
    "```\n",
    "\n",
    "**Acknowledgements**  \n",
    "The authors would like to thank the open-source Python community for the fundamental tools this research has been built upon.\n",
    "In particular, the authors would like to thank the authors of \n",
    "$\\texttt{dm_env}$,\n",
    "Gin Config,\n",
    "Jupyter Notebook, \n",
    "Matplotlib, \n",
    "NetworkX, \n",
    "Numba,\n",
    "Numpy, \n",
    "OpenAi Gym,\n",
    "Pandas, \n",
    "Scipy, \n",
    "Seaborn,\n",
    "TensorFlow, and\n",
    "tqdm."
   ]
  }
 ],
 "metadata": {
  "jupytext": {
   "formats": "md:myst",
   "text_representation": {
    "extension": ".md",
    "format_name": "myst"
   }
  },
  "kernelspec": {
   "display_name": "Python 3",
   "language": "python",
   "name": "python3"
  },
  "language_info": {
   "codemirror_mode": {
    "name": "ipython",
    "version": 3
   },
   "file_extension": ".py",
   "mimetype": "text/x-python",
   "name": "python",
   "nbconvert_exporter": "python",
   "pygments_lexer": "ipython3",
   "version": "3.9.13"
  },
  "source_map": [
   11
  ]
 },
 "nbformat": 4,
 "nbformat_minor": 5
}