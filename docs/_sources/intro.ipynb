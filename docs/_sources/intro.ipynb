{
 "cells": [
  {
   "cell_type": "markdown",
   "id": "dba0d26b",
   "metadata": {},
   "source": [
    "# What is Colosseum?\n",
    "\n",
    "{{col}} is a pioneering Python package that creates a bridge between theory and practice in tabular reinforcement learning with an eye on the non-tabular setting.\n",
    "Have a look at the {doc}`Motivation <./mds/manifesto>` section for a brief overview of the motivation behind the\n",
    "{{col}} project.\n",
    "\n",
    "<h4> Getting Started </h4>\n",
    "\n",
    "- [Installation](./mds/installation)\n",
    "- [Quickstart](./mds/quickstart)\n",
    "- **Tutorials**:\n",
    "  - [Configure {{col}}](./mds/colosseum-configurations.md)\n",
    "  - [Inspect Agents Performances](./mds/agent-performance-analysis.md)\n",
    "  - [Inspect Markov Decision Processes](./mds/mdp-functionalities)\n",
    "  - [Visualize Markov Decision Processes](./mds/mdp-visual-representations)\n",
    "  - [The {{col}} Benchmark](./mds/benchmark-introduction.md)\n",
    "  - [Analyse Benchmarking Results](./mds/benchmark-analysis.md)\n",
    "  - [Create Custom Benchmarks](./mds/benchmark-custom.md)\n",
    "  - [Benchmarking Agents](./mds/benchmark-running.md)\n",
    "  - [Hyperparameters Optimization](./mds/hyperopt.md)\n",
    "  - [Scale Benchmarking to a Cluster](./mds/benchmark-running.md)\n",
    "  - [Empirical Hardness Analysis](./mds/hardness-analysis.md)\n",
    "  - [Non-Tabular Benchmarking](./mds/non-tabular.md)\n",
    "- [API Documentation](./mds/api-reference.md)\n",
    "- [Contributions](./mds/contributions.md)\n",
    "- [Discord channel](https://discord.gg/JBEezJgxGY)\n",
    "\n",
    "If you use {{col}} in your research, please cite the accompanying {{paper}}.\n",
    "\n",
    "``` {code-block} bibtex\n",
    "@inproceedings{conserva2022hardness,\n",
    "  title={Hardness in Markov Decision Processes: Theory and Practice},\n",
    "  author={Conserva, Michelangelo and Rauber, Paulo},\n",
    "  year={2022},\n",
    "  booktitle={Advances in Neural Information Processing Systems},\n",
    "}\n",
    "```\n",
    "\n",
    "**Acknowledgements**  \n",
    "The authors would like to thank the open-source Python community for the fundamental tools this research has been built upon.\n",
    "In particular, the authors would like to thank the authors of \n",
    "$\\texttt{dm_env}$,\n",
    "Gin Config,\n",
    "Jupyter Notebook, \n",
    "Matplotlib, \n",
    "NetworkX, \n",
    "Numba,\n",
    "Numpy, \n",
    "OpenAi Gym,\n",
    "Pandas, \n",
    "Scipy, \n",
    "Seaborn,\n",
    "TensorFlow, and\n",
    "tqdm."
   ]
  }
 ],
 "metadata": {
  "jupytext": {
   "formats": "md:myst",
   "text_representation": {
    "extension": ".md",
    "format_name": "myst"
   }
  },
  "kernelspec": {
   "display_name": "Python 3",
   "language": "python",
   "name": "python3"
  },
  "language_info": {
   "codemirror_mode": {
    "name": "ipython",
    "version": 3
   },
   "file_extension": ".py",
   "mimetype": "text/x-python",
   "name": "python",
   "nbconvert_exporter": "python",
   "pygments_lexer": "ipython3",
   "version": "3.9.13"
  },
  "source_map": [
   11
  ]
 },
 "nbformat": 4,
 "nbformat_minor": 5
}