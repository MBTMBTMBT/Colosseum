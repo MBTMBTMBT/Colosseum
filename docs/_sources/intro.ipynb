{
 "cells": [
  {
   "cell_type": "markdown",
   "id": "79d3f8cd",
   "metadata": {},
   "source": [
    "# What is Colosseum?\n",
    "\n",
    "{{col}} is a pioneering Python package that creates a bridge between theory and practice in tabular reinforcement learning with an eye on the non-tabular setting.\n",
    "\n",
    "If this is your first time on the {{col}} documentation, or you have not read the accompanying {{paper}}, please have a look at the {doc}`Motivation <introduction/manifesto>` section.\n",
    "The available tutorials are the best way to get started.\n",
    "Although we reccomend to go through the tutorials in order, each tutorial is self-contained.\n",
    "Have a look at the [_Tutorials overview_ section](./tutorials/introduction) for further details.\n",
    "\n",
    "**Core capabilities**  \n",
    "- The computation of three theoretical measures of hardness for any given MDP.\n",
    "- Empirical study of the properties of hardness measures.\n",
    "- Principled benchmarking for tabular algorithms with rigorous hyperparameters optimization.\n",
    "- Non-tabular versions of the tabular benchmark for which tabular hardness measures can be computed.\n",
    "- Extensive visualizations for MDPs and analysis tools for the agents' performances.\n",
    "\n",
    "[//]: # (- Efficient implementations to identify the communication class of an MDP {cite}`kallenberg2002classification`.)\n",
    "\n",
    "\n",
    "If you use {{col}} in your research, please cite the accompanying {{paper}}.\n",
    "\n",
    "``` {code-block} bibtex\n",
    "@inproceedings{conserva2022hardness,\n",
    "  title={Hardness in Markov Decision Processes: Theory and Practice},\n",
    "  author={Conserva, Michelangelo and Rauber, Paulo},\n",
    "  year={2022},\n",
    "  booktitle={Advances in Neural Information Processing Systems},\n",
    "}\n",
    "```\n",
    "\n",
    "**Acknowledgements**  \n",
    "The authors would like to thank the open-source Python community for the fundamental tools this research has been built upon.\n",
    "In particular, the authors would like to thank the authors of \n",
    "$\\texttt{dm_env}$,\n",
    "Gin Config,\n",
    "Jupyter Notebook, \n",
    "Matplotlib, \n",
    "NetworkX, \n",
    "Numba,\n",
    "Numpy, \n",
    "OpenAi Gym,\n",
    "Pandas, \n",
    "Scipy, \n",
    "Seaborn,\n",
    "TensorFlow, and\n",
    "tqdm."
   ]
  }
 ],
 "metadata": {
  "jupytext": {
   "formats": "md:myst",
   "text_representation": {
    "extension": ".md",
    "format_name": "myst"
   }
  },
  "kernelspec": {
   "display_name": "Python 3",
   "language": "python",
   "name": "python3"
  },
  "language_info": {
   "codemirror_mode": {
    "name": "ipython",
    "version": 3
   },
   "file_extension": ".py",
   "mimetype": "text/x-python",
   "name": "python",
   "nbconvert_exporter": "python",
   "pygments_lexer": "ipython3",
   "version": "3.7.11"
  },
  "source_map": [
   11
  ]
 },
 "nbformat": 4,
 "nbformat_minor": 5
}