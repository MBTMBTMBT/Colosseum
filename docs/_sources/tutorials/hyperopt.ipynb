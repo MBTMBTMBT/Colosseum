{
 "cells": [
  {
   "cell_type": "markdown",
   "id": "cba8cee4",
   "metadata": {},
   "source": [
    "# Hyperparameters optimization\n",
    "\n",
    "\n",
    "`````{margin}\n",
    "````{dropdown} Necessary imports\n",
    "```{code-block} python\n",
    "from dataclasses import asdict\n",
    "\n",
    "import networkx as nx\n",
    "import numpy as np\n",
    "import pandas as pd\n",
    "from matplotlib import pyplot as plt\n",
    "from myst_nb import glue\n",
    "from scipy.stats import beta\n",
    "\n",
    "from colosseum import config\n",
    "from colosseum.agent.agents.episodic import QLearningEpisodic\n",
    "from colosseum.agent.agents.infinite_horizon import QLearningContinuous\n",
    "from colosseum.benchmark.run import instantiate_and_get_exp_instances_from_agents_and_benchmarks_for_hyperopt\n",
    "from colosseum.experiment.experiment_instances import run_experiment_instances\n",
    "from colosseum.hyperopt import DEFAULT_HYPEROPT_CONF, DEFAULT_HYPEROPT_CONF_NONTABULAR, SMALL_HYPEROPT_CONF, \\\n",
    "    SMALL_HYPEROPT_CONF_NONTABULAR, HyperOptConfig\n",
    "from colosseum.hyperopt.selection import get_optimal_agents_configs\n",
    "from colosseum.hyperopt.utils import sample_agent_configs_and_benchmarks_for_hyperopt\n",
    "from colosseum.mdp.custom_mdp import CustomEpisodic\n",
    "from colosseum.mdp.river_swim import RiverSwimEpisodic\n",
    "from colosseum.mdp.simple_grid import SimpleGridContinuous\n",
    "\n",
    "experiments_folder = \"tutorial\"\n",
    "experiment_name = \"bench_run\"\n",
    "\n",
    "config.set_experiments_folder(experiments_folder, experiment_name)\n",
    "config.set_hyperopt_folder(experiments_folder, experiment_name)\n",
    "\n",
    "config.enable_verbose_logging()\n",
    "\n",
    "seed = 42\n",
    "```\n",
    "````\n",
    "`````"
   ]
  },
  {
   "cell_type": "code",
   "execution_count": 1,
   "id": "114aefd0",
   "metadata": {
    "tags": [
     "remove-output",
     "remove-input"
    ]
   },
   "outputs": [
    {
     "name": "stderr",
     "output_type": "stream",
     "text": [
      "2022-10-15 16:43:54.313750: I tensorflow/core/platform/cpu_feature_guard.cc:193] This TensorFlow binary is optimized with oneAPI Deep Neural Network Library (oneDNN) to use the following CPU instructions in performance-critical operations:  AVX2 FMA\n",
      "To enable them in other operations, rebuild TensorFlow with the appropriate compiler flags.\n",
      "2022-10-15 16:43:54.396451: E tensorflow/stream_executor/cuda/cuda_blas.cc:2981] Unable to register cuBLAS factory: Attempting to register factory for plugin cuBLAS when one has already been registered\n"
     ]
    },
    {
     "name": "stderr",
     "output_type": "stream",
     "text": [
      "2022-10-15 16:43:54.801693: W tensorflow/stream_executor/platform/default/dso_loader.cc:64] Could not load dynamic library 'libnvinfer.so.7'; dlerror: libnvinfer.so.7: cannot open shared object file: No such file or directory\n",
      "2022-10-15 16:43:54.801731: W tensorflow/stream_executor/platform/default/dso_loader.cc:64] Could not load dynamic library 'libnvinfer_plugin.so.7'; dlerror: libnvinfer_plugin.so.7: cannot open shared object file: No such file or directory\n",
      "2022-10-15 16:43:54.801735: W tensorflow/compiler/tf2tensorrt/utils/py_utils.cc:38] TF-TRT Warning: Cannot dlopen some TensorRT libraries. If you would like to use Nvidia GPU with TensorRT, please make sure the missing libraries mentioned above are installed properly.\n"
     ]
    }
   ],
   "source": [
    "import shutil\n",
    "from dataclasses import asdict\n",
    "\n",
    "import networkx as nx\n",
    "import numpy as np\n",
    "import pandas as pd\n",
    "from matplotlib import pyplot as plt\n",
    "from myst_nb import glue\n",
    "from scipy.stats import beta\n",
    "\n",
    "from colosseum import config\n",
    "from colosseum.agent.agents.episodic import QLearningEpisodic\n",
    "from colosseum.agent.agents.infinite_horizon import QLearningContinuous\n",
    "from colosseum.benchmark.run import instantiate_and_get_exp_instances_from_agents_and_benchmarks_for_hyperopt\n",
    "from colosseum.experiment.experiment_instances import run_experiment_instances\n",
    "from colosseum.hyperopt import DEFAULT_HYPEROPT_CONF, DEFAULT_HYPEROPT_CONF_NONTABULAR, SMALL_HYPEROPT_CONF, \\\n",
    "    SMALL_HYPEROPT_CONF_NONTABULAR, HyperOptConfig\n",
    "from colosseum.hyperopt.selection import retrieve_best_agent_config_from_hp_folder\n",
    "from colosseum.hyperopt.utils import sample_agent_configs_and_benchmarks_for_hyperopt\n",
    "from colosseum.mdp.custom_mdp import CustomEpisodic\n",
    "from colosseum.mdp.river_swim import RiverSwimEpisodic\n",
    "from colosseum.mdp.simple_grid import SimpleGridContinuous\n",
    "\n",
    "\n",
    "def pretty_print(hpc):\n",
    "  index = [\n",
    "      \"Default tabular\",\n",
    "      \"Small tabular\",\n",
    "      \"Default non-tabular\",\n",
    "      \"Small non-tabular\",\n",
    "  ]\n",
    "  columns = list(asdict(DEFAULT_HYPEROPT_CONF))\n",
    "  data = [\n",
    "      list(map(str, asdict(DEFAULT_HYPEROPT_CONF).values())),\n",
    "      list(map(str, asdict(SMALL_HYPEROPT_CONF).values())),\n",
    "      list(\n",
    "          map(\n",
    "              lambda x: x.__name__ if \"emission_maps\" in str(x) else str(x),\n",
    "              asdict(DEFAULT_HYPEROPT_CONF_NONTABULAR).values(),\n",
    "          )\n",
    "      ),\n",
    "      list(\n",
    "          map(\n",
    "              lambda x: x.__name__ if \"emission_maps\" in str(x) else str(x),\n",
    "              asdict(SMALL_HYPEROPT_CONF_NONTABULAR).values(),\n",
    "          )\n",
    "      ),\n",
    "  ]\n",
    "  \n",
    "  return pd.DataFrame(data, index, columns).T\n",
    "  \n",
    "experiments_folder = \"tutorial\"\n",
    "experiment_name = \"hyperopt\"\n",
    "\n",
    "config.set_hyperopt_folder(experiments_folder, experiment_name)"
   ]
  },
  {
   "cell_type": "markdown",
   "id": "8291f1dc",
   "metadata": {},
   "source": [
    "As the [_Agent implementation_ tutorial](../tutorials/agent-implementation.md) explains, agent classes must define a sampling space for its hyperparameters.\n",
    "These sampling spaces are used to conduct a random search optimization procedure with the objective of minimizing the cumulative regret across a set of randomly sampled environments.\n",
    "The random sampling procedure for environments is defined for each {{col}} MDP class, and aims to provide a varied set of MDPs of up to moderate scale.\n",
    "\n",
    "\n",
    "## Hyperparameters optimization configurations\n",
    "\n",
    "The [`HyperOptConfig`](../pdoc_files/colosseum/hyperopt/config.html#HyperOptConfig) class controls the parameters of the hyperparameter optimization procedure.\n",
    "There are four default hyperparameters optimization configurations available in the package, which are reported in the table below.\n",
    "[`DEFAULT_HYPEROPT_CONF`](../pdoc_files/colosseum/hyperopt/config.html#DEFAULT_HYPEROPT_CONF) is the default hyperparameters optimization configuration for tabular agents,\n",
    "[`SMALL_HYPEROPT_CONF`](../pdoc_files/colosseum/hyperopt/config.html#SMALL_HYPEROPT_CONF) is a quick hyperparameters optimization configuration for tabular agents that can be used for quick testing,\n",
    "[`DEFAULT_HYPEROPT_CONF_NONTABULAR`](../pdoc_files/colosseum/hyperopt/config.html#DEFAULT_HYPEROPT_CONF_NONTABULAR) is the default hyperparameters optimization configuration for non-tabular agents, and\n",
    "[`SMALL_HYPEROPT_CONF_NONTABULAR`](../pdoc_files/colosseum/hyperopt/config.html#SMALL_HYPEROPT_CONF_NONTABULAR) is the default hyperparameters optimization configuration for non-tabular agents that can be used for quick testing."
   ]
  },
  {
   "cell_type": "code",
   "execution_count": 2,
   "id": "9a5404df",
   "metadata": {
    "tags": [
     "remove-input"
    ]
   },
   "outputs": [
    {
     "data": {
      "text/html": [
       "<style type=\"text/css\">\n",
       "</style>\n",
       "<table id=\"T_e6980_\" style=\"font-size: 14px\">\n",
       "  <thead>\n",
       "    <tr>\n",
       "      <th class=\"blank level0\" >&nbsp;</th>\n",
       "      <th class=\"col_heading level0 col0\" >Default tabular</th>\n",
       "      <th class=\"col_heading level0 col1\" >Small tabular</th>\n",
       "      <th class=\"col_heading level0 col2\" >Default non-tabular</th>\n",
       "      <th class=\"col_heading level0 col3\" >Small non-tabular</th>\n",
       "    </tr>\n",
       "  </thead>\n",
       "  <tbody>\n",
       "    <tr>\n",
       "      <th id=\"T_e6980_level0_row0\" class=\"row_heading level0 row0\" >seed</th>\n",
       "      <td id=\"T_e6980_row0_col0\" class=\"data row0 col0\" >42</td>\n",
       "      <td id=\"T_e6980_row0_col1\" class=\"data row0 col1\" >42</td>\n",
       "      <td id=\"T_e6980_row0_col2\" class=\"data row0 col2\" >42</td>\n",
       "      <td id=\"T_e6980_row0_col3\" class=\"data row0 col3\" >42</td>\n",
       "    </tr>\n",
       "    <tr>\n",
       "      <th id=\"T_e6980_level0_row1\" class=\"row_heading level0 row1\" >n_timesteps</th>\n",
       "      <td id=\"T_e6980_row1_col0\" class=\"data row1 col0\" >250000</td>\n",
       "      <td id=\"T_e6980_row1_col1\" class=\"data row1 col1\" >30000</td>\n",
       "      <td id=\"T_e6980_row1_col2\" class=\"data row1 col2\" >250000</td>\n",
       "      <td id=\"T_e6980_row1_col3\" class=\"data row1 col3\" >50000</td>\n",
       "    </tr>\n",
       "    <tr>\n",
       "      <th id=\"T_e6980_level0_row2\" class=\"row_heading level0 row2\" >max_interaction_time_s</th>\n",
       "      <td id=\"T_e6980_row2_col0\" class=\"data row2 col0\" >300</td>\n",
       "      <td id=\"T_e6980_row2_col1\" class=\"data row2 col1\" >120</td>\n",
       "      <td id=\"T_e6980_row2_col2\" class=\"data row2 col2\" >600</td>\n",
       "      <td id=\"T_e6980_row2_col3\" class=\"data row2 col3\" >60</td>\n",
       "    </tr>\n",
       "    <tr>\n",
       "      <th id=\"T_e6980_level0_row3\" class=\"row_heading level0 row3\" >n_samples_agents</th>\n",
       "      <td id=\"T_e6980_row3_col0\" class=\"data row3 col0\" >50</td>\n",
       "      <td id=\"T_e6980_row3_col1\" class=\"data row3 col1\" >2</td>\n",
       "      <td id=\"T_e6980_row3_col2\" class=\"data row3 col2\" >50</td>\n",
       "      <td id=\"T_e6980_row3_col3\" class=\"data row3 col3\" >2</td>\n",
       "    </tr>\n",
       "    <tr>\n",
       "      <th id=\"T_e6980_level0_row4\" class=\"row_heading level0 row4\" >n_samples_mdps</th>\n",
       "      <td id=\"T_e6980_row4_col0\" class=\"data row4 col0\" >5</td>\n",
       "      <td id=\"T_e6980_row4_col1\" class=\"data row4 col1\" >2</td>\n",
       "      <td id=\"T_e6980_row4_col2\" class=\"data row4 col2\" >5</td>\n",
       "      <td id=\"T_e6980_row4_col3\" class=\"data row4 col3\" >2</td>\n",
       "    </tr>\n",
       "    <tr>\n",
       "      <th id=\"T_e6980_level0_row5\" class=\"row_heading level0 row5\" >log_every</th>\n",
       "      <td id=\"T_e6980_row5_col0\" class=\"data row5 col0\" >100000</td>\n",
       "      <td id=\"T_e6980_row5_col1\" class=\"data row5 col1\" >10000</td>\n",
       "      <td id=\"T_e6980_row5_col2\" class=\"data row5 col2\" >50000</td>\n",
       "      <td id=\"T_e6980_row5_col3\" class=\"data row5 col3\" >10000</td>\n",
       "    </tr>\n",
       "    <tr>\n",
       "      <th id=\"T_e6980_level0_row6\" class=\"row_heading level0 row6\" >emission_map</th>\n",
       "      <td id=\"T_e6980_row6_col0\" class=\"data row6 col0\" >None</td>\n",
       "      <td id=\"T_e6980_row6_col1\" class=\"data row6 col1\" >None</td>\n",
       "      <td id=\"T_e6980_row6_col2\" class=\"data row6 col2\" >StateInfo</td>\n",
       "      <td id=\"T_e6980_row6_col3\" class=\"data row6 col3\" >StateInfo</td>\n",
       "    </tr>\n",
       "    <tr>\n",
       "      <th id=\"T_e6980_level0_row7\" class=\"row_heading level0 row7\" >mdp_classes</th>\n",
       "      <td id=\"T_e6980_row7_col0\" class=\"data row7 col0\" >None</td>\n",
       "      <td id=\"T_e6980_row7_col1\" class=\"data row7 col1\" >None</td>\n",
       "      <td id=\"T_e6980_row7_col2\" class=\"data row7 col2\" >None</td>\n",
       "      <td id=\"T_e6980_row7_col3\" class=\"data row7 col3\" >None</td>\n",
       "    </tr>\n",
       "    <tr>\n",
       "      <th id=\"T_e6980_level0_row8\" class=\"row_heading level0 row8\" >n_seeds</th>\n",
       "      <td id=\"T_e6980_row8_col0\" class=\"data row8 col0\" >3</td>\n",
       "      <td id=\"T_e6980_row8_col1\" class=\"data row8 col1\" >1</td>\n",
       "      <td id=\"T_e6980_row8_col2\" class=\"data row8 col2\" >3</td>\n",
       "      <td id=\"T_e6980_row8_col3\" class=\"data row8 col3\" >1</td>\n",
       "    </tr>\n",
       "  </tbody>\n",
       "</table>\n"
      ],
      "text/plain": [
       "<pandas.io.formats.style.Styler at 0x7f09203e6e10>"
      ]
     },
     "execution_count": 2,
     "metadata": {},
     "output_type": "execute_result"
    }
   ],
   "source": [
    "pretty_print(DEFAULT_HYPEROPT_CONF).style.set_table_attributes('style=\"font-size: 14px\"')"
   ]
  },
  {
   "cell_type": "markdown",
   "id": "7c5c1668",
   "metadata": {},
   "source": [
    "## Hyperparameters optimization\n",
    "\n",
    "Running the hyperparameters optimization procedure is very similar to running a benchmark.\n",
    "The only difference is that the benchmarks are automatically sampled."
   ]
  },
  {
   "cell_type": "code",
   "execution_count": 3,
   "id": "1f3a0d27",
   "metadata": {},
   "outputs": [],
   "source": [
    "# Define a custom small scale hyperparameters optimization procedure\n",
    "hpoc = HyperOptConfig(\n",
    "    seed=42,\n",
    "    n_timesteps=20_000,\n",
    "    max_interaction_time_s=40,\n",
    "    n_samples_agents=1,\n",
    "    n_samples_mdps=1,\n",
    "    log_every=500,\n",
    "    n_seeds=1,\n",
    ")\n",
    "\n",
    "# Take the q-learning agents as running example\n",
    "agent_cls = [QLearningContinuous, QLearningEpisodic]\n",
    "\n",
    "# Create the benchmarks for the given agents classes and hyperparameters optimzation configuration\n",
    "hyperopt_agents_and_benchmarks = sample_agent_configs_and_benchmarks_for_hyperopt(agent_cls, hpoc)\n",
    "\n",
    "# Obtain the instances and run them locally\n",
    "hp_exp_instances = instantiate_and_get_exp_instances_from_agents_and_benchmarks_for_hyperopt(\n",
    "    hyperopt_agents_and_benchmarks\n",
    ")\n",
    "run_experiment_instances(hp_exp_instances)\n",
    "\n",
    "# Compute the best hyperparameters, which, by default, minimize the average normalized cumulative regret\n",
    "optimal_agent_configs = retrieve_best_agent_config_from_hp_folder()"
   ]
  },
  {
   "cell_type": "code",
   "execution_count": 4,
   "id": "2f97dbe2",
   "metadata": {
    "tags": [
     "remove-input"
    ]
   },
   "outputs": [
    {
     "name": "stdout",
     "output_type": "stream",
     "text": [
      "prms_0/QLearningEpisodic.p=0.05\n",
      "prms_0/QLearningEpisodic.UCB_type=\"bernstein\"\n",
      "prms_0/QLearningEpisodic.c_1 = 0.4126\n",
      "prms_0/QLearningEpisodic.c_2 = 1.0458\n",
      "prms_0/QLearningEpisodic.min_at = 0.1467\n",
      "\n",
      "\n",
      "prms_0/QLearningContinuous.h_weight = 0.4126\n",
      "prms_0/QLearningContinuous.span_approx_weight = 1.0458\n",
      "prms_0/QLearningContinuous.min_at = 0.1467\n",
      "\n"
     ]
    }
   ],
   "source": [
    "print(optimal_agent_configs[QLearningEpisodic])\n",
    "print()\n",
    "print(optimal_agent_configs[QLearningContinuous])"
   ]
  },
  {
   "cell_type": "code",
   "execution_count": 5,
   "id": "3f5192dd",
   "metadata": {
    "tags": [
     "remove-input",
     "remove-output"
    ]
   },
   "outputs": [],
   "source": [
    "shutil.rmtree(config.get_hyperopt_folder())"
   ]
  }
 ],
 "metadata": {
  "jupytext": {
   "formats": "md:myst",
   "text_representation": {
    "extension": ".md",
    "format_name": "myst"
   }
  },
  "kernelspec": {
   "display_name": "Python 3",
   "language": "python",
   "name": "python3"
  },
  "language_info": {
   "codemirror_mode": {
    "name": "ipython",
    "version": 3
   },
   "file_extension": ".py",
   "mimetype": "text/x-python",
   "name": "python",
   "nbconvert_exporter": "python",
   "pygments_lexer": "ipython3",
   "version": "3.7.11"
  },
  "source_map": [
   11,
   52,
   109,
   125,
   128,
   135,
   163,
   170
  ]
 },
 "nbformat": 4,
 "nbformat_minor": 5
}