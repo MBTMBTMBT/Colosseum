{
 "cells": [
  {
   "cell_type": "markdown",
   "id": "ae4adace",
   "metadata": {},
   "source": [
    "# Custom benchmarks\n",
    "\n",
    "`````{margin}\n",
    "````{dropdown} Necessary imports\n",
    "```{code-block} python\n",
    "from dataclasses import dataclass\n",
    "from typing import Type\n",
    "\n",
    "from colosseum.emission_maps import EmissionMap\n",
    "from colosseum import config\n",
    "from colosseum.agent.agents.episodic import PSRLEpisodic\n",
    "from colosseum.agent.agents.infinite_horizon import QLearningContinuous\n",
    "from colosseum.agent.utils import sample_agent_gin_configs\n",
    "from colosseum.benchmark.benchmark import ColosseumBenchmark\n",
    "from colosseum.experiment import ExperimentConfig\n",
    "from colosseum.utils.miscellanea import sample_mdp_gin_configs\n",
    "from colosseum.utils.miscellanea import get_colosseum_mdp_classes\n",
    "from colosseum.benchmark.utils import get_mdps_configs_from_mdps\n",
    "from colosseum.mdp.deep_sea import DeepSeaEpisodic\n",
    "from colosseum.mdp.frozen_lake import FrozenLakeEpisodic\n",
    "from colosseum.mdp.minigrid_empty import MiniGridEmptyContinuous\n",
    "from colosseum.mdp.simple_grid import SimpleGridContinuous\n",
    "from colosseum.agent.utils import sample_agent_gin_configs_file\n",
    "from colosseum.utils.miscellanea import sample_mdp_gin_configs_file\n",
    "from colosseum.benchmark import ColosseumDefaultBenchmark\n",
    "\n",
    "# Configuring the directories for the package\n",
    "experiment_folder = \"tutorial\"\n",
    "experiment_name = \"custom_benchmark\"\n",
    "config.set_experiments_folder(experiment_folder, experiment_name)\n",
    "config.set_hyperopt_folder(experiment_folder, experiment_name)\n",
    "seed = 42\n",
    "```\n",
    "````\n",
    "`````"
   ]
  },
  {
   "cell_type": "code",
   "execution_count": 1,
   "id": "3c4f9917",
   "metadata": {
    "tags": [
     "remove-output",
     "remove-input"
    ]
   },
   "outputs": [
    {
     "name": "stderr",
     "output_type": "stream",
     "text": [
      "2022-10-15 16:42:25.684373: I tensorflow/core/platform/cpu_feature_guard.cc:193] This TensorFlow binary is optimized with oneAPI Deep Neural Network Library (oneDNN) to use the following CPU instructions in performance-critical operations:  AVX2 FMA\n",
      "To enable them in other operations, rebuild TensorFlow with the appropriate compiler flags.\n",
      "2022-10-15 16:42:25.772684: E tensorflow/stream_executor/cuda/cuda_blas.cc:2981] Unable to register cuBLAS factory: Attempting to register factory for plugin cuBLAS when one has already been registered\n"
     ]
    },
    {
     "name": "stderr",
     "output_type": "stream",
     "text": [
      "2022-10-15 16:42:26.140457: W tensorflow/stream_executor/platform/default/dso_loader.cc:64] Could not load dynamic library 'libnvinfer.so.7'; dlerror: libnvinfer.so.7: cannot open shared object file: No such file or directory\n",
      "2022-10-15 16:42:26.140495: W tensorflow/stream_executor/platform/default/dso_loader.cc:64] Could not load dynamic library 'libnvinfer_plugin.so.7'; dlerror: libnvinfer_plugin.so.7: cannot open shared object file: No such file or directory\n",
      "2022-10-15 16:42:26.140500: W tensorflow/compiler/tf2tensorrt/utils/py_utils.cc:38] TF-TRT Warning: Cannot dlopen some TensorRT libraries. If you would like to use Nvidia GPU with TensorRT, please make sure the missing libraries mentioned above are installed properly.\n"
     ]
    }
   ],
   "source": [
    "from dataclasses import dataclass\n",
    "from typing import Type\n",
    "\n",
    "from colosseum.emission_maps import EmissionMap\n",
    "from colosseum import config\n",
    "from colosseum.agent.agents.episodic import PSRLEpisodic\n",
    "from colosseum.agent.agents.infinite_horizon import QLearningContinuous\n",
    "from colosseum.agent.utils import sample_agent_gin_configs\n",
    "from colosseum.benchmark.benchmark import ColosseumBenchmark\n",
    "from colosseum.experiment import ExperimentConfig\n",
    "from colosseum.utils.miscellanea import sample_mdp_gin_configs\n",
    "from colosseum.utils.miscellanea import get_colosseum_mdp_classes\n",
    "from colosseum.benchmark.utils import get_mdps_configs_from_mdps\n",
    "from colosseum.mdp.deep_sea import DeepSeaEpisodic\n",
    "from colosseum.mdp.frozen_lake import FrozenLakeEpisodic\n",
    "from colosseum.mdp.minigrid_empty import MiniGridEmptyContinuous\n",
    "from colosseum.mdp.simple_grid import SimpleGridContinuous\n",
    "from colosseum.agent.utils import sample_agent_gin_configs_file\n",
    "from colosseum.utils.miscellanea import sample_mdp_gin_configs_file\n",
    "from colosseum.benchmark import ColosseumDefaultBenchmark\n",
    "\n",
    "# Configuring the directories for the package\n",
    "experiment_folder = \"tutorial\"\n",
    "experiment_name = \"custom_benchmark\"\n",
    "config.set_experiments_folder(experiment_folder, experiment_name)\n",
    "config.set_hyperopt_folder(experiment_folder, experiment_name)\n",
    "seed = 42"
   ]
  },
  {
   "cell_type": "markdown",
   "id": "19b70c4e",
   "metadata": {},
   "source": [
    "In addition to the default benchmark, it is possible to create custom benchmarks that still support all the analysis capabilities of the package.\n",
    "\n",
    "\n",
    "## Benchmark experimental configuration\n",
    "\n",
    "In order to create a custom benchmark, we need to instantiate a\n",
    "[`ColosseumBenchmark`](../pdoc_files/colosseum/benchmark/benchmark.html#ColosseumBenchmark) object, which requires\n",
    "an [`ExperimentConfig`](../pdoc_files/colosseum/experiment/config.html#ExperimentConfig) and the parameters for the\n",
    "MDPs.\n",
    "\n",
    "The `ExperimentConfig` regulates the agent/MDP interaction.\n",
    "\n",
    "\n",
    "In order to keep the scale of the experiments small, we define a configuration that results in a small number of short agent/MDP interactions."
   ]
  },
  {
   "cell_type": "code",
   "execution_count": 2,
   "id": "64982443",
   "metadata": {
    "tags": [
     "remove-output"
    ]
   },
   "outputs": [],
   "source": [
    "experiment_config = ExperimentConfig(\n",
    "    n_seeds=1,\n",
    "    n_steps=5_000,\n",
    "    max_interaction_time_s=30,\n",
    "    log_performance_indicators_every=1000,\n",
    ")"
   ]
  },
  {
   "cell_type": "markdown",
   "id": "7b48d6a0",
   "metadata": {},
   "source": [
    "## MDP configurations\n",
    "\n",
    "There are three ways to create MDP configurations that can be used to form a benchmark.\n",
    "\n",
    "### Random sampling\n",
    "\n",
    "Each {{col}} MDP class implements a function to randomly sample parameters, whose main function is for the agent hyperparameters optimization procedure (see the corresponding {doc}`tutorial <../tutorials/hyperopt>`).\n",
    "Nonetheless, we can sample such configurations to create our custom benchmark."
   ]
  },
  {
   "cell_type": "code",
   "execution_count": 3,
   "id": "d6e629c2",
   "metadata": {},
   "outputs": [],
   "source": [
    "# Get all the episodic MDP Colosseum classes\n",
    "episodic_mdp_classes = get_colosseum_mdp_classes(episodic=True)\n",
    "\n",
    "mdps_configs = dict()\n",
    "for cl in episodic_mdp_classes:\n",
    "    # For each episodic MDP class, we sample a single configuration\n",
    "    mdps_configs[cl] = sample_mdp_gin_configs_file(cl, n=1, seed=seed)\n",
    "\n",
    "# We define the benchmark object with the sampled MDP configs and the previously defined experiment config\n",
    "benchmark = ColosseumBenchmark(\n",
    "    name=\"episodic_randomly_sampled\", mdps_gin_configs=mdps_configs, experiment_config=experiment_config\n",
    ")"
   ]
  },
  {
   "cell_type": "markdown",
   "id": "884df9ed",
   "metadata": {},
   "source": [
    "[//]: # (To get an idea of how a sampling procedure for an MDP looks like, you can have a look at the )\n",
    "\n",
    "[//]: # ([`sample_mdp_parameters`]&#40;../pdoc_files/colosseum/mdp/deep_sea/base.html#DeepSeaMDP.sample_mdp_parameters&#41; function of the)\n",
    "\n",
    "[//]: # (DeepSea family.)\n",
    "\n",
    "### Default {{col}} benchmark instances\n",
    "\n",
    "We can also borrow the MDP instances from the default benchmark, and maybe modify them."
   ]
  },
  {
   "cell_type": "code",
   "execution_count": 4,
   "id": "f69856b1",
   "metadata": {},
   "outputs": [],
   "source": [
    "# Instantiate the episodic ergodic benchmark and take its MDP configurations\n",
    "mdps_configs = ColosseumDefaultBenchmark.EPISODIC_ERGODIC.get_benchmark().mdps_gin_configs\n",
    "\n",
    "# Save the configurations in a new ColosseumBenchmark object with a custom name and the previously defined experiment config\n",
    "benchmark = ColosseumBenchmark(\"borrowing_from_default\", mdps_configs, experiment_config)"
   ]
  },
  {
   "cell_type": "markdown",
   "id": "c1aa3fb4",
   "metadata": {},
   "source": [
    "### Obtain configurations from MDP instances\n",
    "\n",
    "Finally, we can obtain the configuration from MDP instances we have defined ourselves.\n",
    "This can be particularly useful when the goal is to analyse a set of MDPs with particular characteristics, e.g. MDPs with small number of states but large visitation complexity."
   ]
  },
  {
   "cell_type": "code",
   "execution_count": 5,
   "id": "9829ad44",
   "metadata": {},
   "outputs": [],
   "source": [
    "# Define a list of MDP instance\n",
    "mdps = [\n",
    "    DeepSeaEpisodic(seed=4, size=10, p_rand=0.4),\n",
    "    FrozenLakeEpisodic(seed=4, size=5, p_frozen=0.8),\n",
    "]\n",
    "# from which we can obtain the configurations from\n",
    "mdps_configs = get_mdps_configs_from_mdps(mdps)\n",
    "\n",
    "benchmark = ColosseumBenchmark(\"custom_mdp_instances\", mdps_configs, experiment_config)"
   ]
  },
  {
   "cell_type": "code",
   "execution_count": 6,
   "id": "b46274d3",
   "metadata": {
    "tags": [
     "remove-input",
     "remove-output"
    ]
   },
   "outputs": [],
   "source": [
    "import shutil\n",
    "shutil.rmtree(config.get_experiments_folder())"
   ]
  }
 ],
 "metadata": {
  "jupytext": {
   "formats": "md:myst",
   "text_representation": {
    "extension": ".md",
    "format_name": "myst"
   }
  },
  "kernelspec": {
   "display_name": "Python 3",
   "language": "python",
   "name": "python3"
  },
  "language_info": {
   "codemirror_mode": {
    "name": "ipython",
    "version": 3
   },
   "file_extension": ".py",
   "mimetype": "text/x-python",
   "name": "python",
   "nbconvert_exporter": "python",
   "pygments_lexer": "ipython3",
   "version": "3.7.11"
  },
  "source_map": [
   11,
   47,
   76,
   94,
   102,
   113,
   126,
   138,
   144,
   152,
   165
  ]
 },
 "nbformat": 4,
 "nbformat_minor": 5
}