{
 "cells": [
  {
   "cell_type": "markdown",
   "id": "67d88d36",
   "metadata": {},
   "source": [
    "# Configurations\n",
    "\n",
    "`````{margin}\n",
    "````{dropdown} Necessary imports\n",
    "```{code-block} python\n",
    "from colosseum import config\n",
    "```\n",
    "````\n",
    "`````"
   ]
  },
  {
   "cell_type": "code",
   "execution_count": 1,
   "id": "a08ee69a",
   "metadata": {
    "tags": [
     "remove-output",
     "remove-input"
    ]
   },
   "outputs": [],
   "source": [
    "from colosseum import config"
   ]
  },
  {
   "cell_type": "markdown",
   "id": "d3f2ed96",
   "metadata": {},
   "source": [
    "{{col}} allows configuring global directories for the hyperparameters optimization and the benchmarking procedures,\n",
    "the settings regarding multiprocessing, and some other functionalities.\n",
    "The <a href=\"../pdoc_files/colosseum/config.html\">``config``</a> module provide the configuring functions.\n",
    "\n",
    "## {{col}} directories\n",
    "\n",
    "When running {{col}} experiments, hyperparameter optimization procedures, and hardness analysis, it can be useful to set\n",
    "up the directories in which logging files will be stored for future analysis.\n",
    "\n",
    "### Benchmarking\n",
    "\n",
    "As a running example, we assume that the goal is to run the tabular benchmark on different classes of algorithms, more\n",
    "specifically on model-free and model-based algorithms, and analyze them separately.\n",
    "\n",
    "In order to do so, we set the name of the main experiment folder as `tabular`."
   ]
  },
  {
   "cell_type": "code",
   "execution_count": 2,
   "id": "7cfb0d58",
   "metadata": {},
   "outputs": [],
   "source": [
    "experiments_folder = \"tabular\""
   ]
  },
  {
   "cell_type": "markdown",
   "id": "d2f3876b",
   "metadata": {},
   "source": [
    "When we benchmark the model-free agents, we set the name of the experiment as `model-free` and communicate it to {{col}}."
   ]
  },
  {
   "cell_type": "code",
   "execution_count": 3,
   "id": "d5530c73",
   "metadata": {},
   "outputs": [
    {
     "name": "stdout",
     "output_type": "stream",
     "text": [
      "Model-free experiment folder:  tabular/benchmarking/model_free/\n",
      "Model-free hyperoptimization folder tabular/hyperopt/model_free/\n"
     ]
    }
   ],
   "source": [
    "experiment_name = \"model_free\"\n",
    "\n",
    "# Set the experiment folder and the related hyperoptimization folder\n",
    "config.set_experiments_folder(experiments_folder, experiment_name)\n",
    "config.set_hyperopt_folder(experiments_folder, experiment_name)\n",
    "\n",
    "print(\"Model-free experiment folder: \", config.get_experiments_folder())\n",
    "print(\"Model-free hyperoptimization folder\", config.get_hyperopt_folder())"
   ]
  },
  {
   "cell_type": "markdown",
   "id": "9cf19fb4",
   "metadata": {},
   "source": [
    "When instead we benchmark the model-based agents, we set the name of the experiment as `model-based` and similarly communicate it to the package."
   ]
  },
  {
   "cell_type": "code",
   "execution_count": 4,
   "id": "31a68f54",
   "metadata": {},
   "outputs": [
    {
     "name": "stdout",
     "output_type": "stream",
     "text": [
      "Model-based experiment folder:  tabular/benchmarking/model_based/\n",
      "Model-based hyperoptimization folder tabular/hyperopt/model_based/\n"
     ]
    }
   ],
   "source": [
    "experiment_name = \"model_based\"\n",
    "\n",
    "# Set the experiment folder and the related hyperoptimization folder\n",
    "config.set_experiments_folder(experiments_folder, experiment_name)\n",
    "config.set_hyperopt_folder(experiments_folder, experiment_name)\n",
    "\n",
    "print(\"Model-based experiment folder: \", config.get_experiments_folder())\n",
    "print(\"Model-based hyperoptimization folder\", config.get_hyperopt_folder())"
   ]
  },
  {
   "cell_type": "markdown",
   "id": "3401202b",
   "metadata": {},
   "source": [
    "### Hardness analysis\n",
    "\n",
    "The package already includes cached valued of the implemented hardness measures for the benchmark environments, and it also allows the user to cache the values of the measures for other environments locally.\n",
    "In order to keep the hardness measures in the package separated from the user's new computations, a local folder is created and the {{col}} cached measures are copied therein."
   ]
  },
  {
   "cell_type": "code",
   "execution_count": 5,
   "id": "331a46c3",
   "metadata": {},
   "outputs": [
    {
     "name": "stdout",
     "output_type": "stream",
     "text": [
      "Default hardness measures cache folder:  cached_hardness_measures/\n"
     ]
    },
    {
     "name": "stdout",
     "output_type": "stream",
     "text": [
      "Custom hardness measures cache folder:  my_cached_hardness_measures_folder/\n"
     ]
    }
   ],
   "source": [
    "print(\"Default hardness measures cache folder: \", config.get_hardness_measures_cache_folder())\n",
    "\n",
    "# If you prefer, you can set the folder yourself\n",
    "config.set_hardness_measures_cache_folder(\"my_cached_hardness_measures_folder\")\n",
    "print(\"Custom hardness measures cache folder: \", config.get_hardness_measures_cache_folder())"
   ]
  },
  {
   "cell_type": "markdown",
   "id": "51e5adee",
   "metadata": {},
   "source": [
    "## Verbosity\n",
    "\n",
    "{{col}} can provide verbose logging for the agent/MDP interaction, computing the hardness measures, and time-consuming visualizations.\n",
    "Note that verbosity is turned off by default."
   ]
  },
  {
   "cell_type": "code",
   "execution_count": 6,
   "id": "d917791b",
   "metadata": {},
   "outputs": [],
   "source": [
    "# Enable verbosity\n",
    "config.enable_verbose_logging()\n",
    "# Disable verbosity\n",
    "config.disable_verbose_logging()"
   ]
  },
  {
   "cell_type": "markdown",
   "id": "eaba7597",
   "metadata": {},
   "source": [
    "## Multiprocessing\n",
    "\n",
    "{{col}} can leverage multiple cores for benchmarking agents and computing hardness measures.\n",
    "Note that multiprocessing is turned off by default.\n",
    "\n",
    "When multiprocessing is enabled, {{col}} sets the number of available cores to the total number of cores available minus two."
   ]
  },
  {
   "cell_type": "code",
   "execution_count": 7,
   "id": "e0518528",
   "metadata": {},
   "outputs": [
    {
     "name": "stdout",
     "output_type": "stream",
     "text": [
      "Number of cores available to the package:  30\n"
     ]
    }
   ],
   "source": [
    "config.enable_multiprocessing()\n",
    "print(\"Number of cores available to the package: \", config.get_available_cores())"
   ]
  },
  {
   "cell_type": "markdown",
   "id": "e40ba2fb",
   "metadata": {},
   "source": [
    "However, it is possible to manually set the number of cores the package will use."
   ]
  },
  {
   "cell_type": "code",
   "execution_count": 8,
   "id": "9f01ddf0",
   "metadata": {},
   "outputs": [
    {
     "name": "stdout",
     "output_type": "stream",
     "text": [
      "Number of cores available to the package:  5\n"
     ]
    }
   ],
   "source": [
    "config.set_available_cores(5)\n",
    "print(\"Number of cores available to the package: \", config.get_available_cores())"
   ]
  },
  {
   "cell_type": "markdown",
   "id": "6d8a3853",
   "metadata": {},
   "source": [
    "Once multiprocessing has been enabled, it can be disabled."
   ]
  },
  {
   "cell_type": "code",
   "execution_count": 9,
   "id": "062afb6b",
   "metadata": {},
   "outputs": [
    {
     "name": "stdout",
     "output_type": "stream",
     "text": [
      "Number of cores available to the package:  1\n"
     ]
    }
   ],
   "source": [
    "# Disable multiprocessing\n",
    "config.disable_multiprocessing()\n",
    "print(\"Number of cores available to the package: \", config.get_available_cores())"
   ]
  },
  {
   "cell_type": "code",
   "execution_count": 10,
   "id": "5b6e8fba",
   "metadata": {
    "tags": [
     "remove-input",
     "remove-output"
    ]
   },
   "outputs": [],
   "source": [
    "import shutil\n",
    "shutil.rmtree(\"tabular\")\n",
    "shutil.rmtree(config.get_hardness_measures_cache_folder())"
   ]
  }
 ],
 "metadata": {
  "jupytext": {
   "formats": "md:myst",
   "text_representation": {
    "extension": ".md",
    "format_name": "myst"
   }
  },
  "kernelspec": {
   "display_name": "Python 3",
   "language": "python",
   "name": "python3"
  },
  "language_info": {
   "codemirror_mode": {
    "name": "ipython",
    "version": 3
   },
   "file_extension": ".py",
   "mimetype": "text/x-python",
   "name": "python",
   "nbconvert_exporter": "python",
   "pygments_lexer": "ipython3",
   "version": "3.7.11"
  },
  "source_map": [
   11,
   21,
   24,
   41,
   43,
   46,
   55,
   58,
   67,
   74,
   80,
   87,
   92,
   101,
   104,
   107,
   110,
   113,
   119
  ]
 },
 "nbformat": 4,
 "nbformat_minor": 5
}