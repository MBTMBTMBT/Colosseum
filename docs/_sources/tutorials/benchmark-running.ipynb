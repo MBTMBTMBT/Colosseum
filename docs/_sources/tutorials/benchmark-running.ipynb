{
 "cells": [
  {
   "cell_type": "markdown",
   "id": "72568952",
   "metadata": {},
   "source": [
    "# Running benchmarks\n",
    "\n",
    "`````{margin}\n",
    "````{dropdown} Necessary imports\n",
    "```{code-block} python\n",
    "from colosseum import config\n",
    "from colosseum.agent.agents.episodic import PSRLEpisodic, QLearningEpisodic\n",
    "from colosseum.agent.agents.infinite_horizon import QLearningContinuous, UCRL2Continuous\n",
    "from colosseum.agent.utils import sample_agent_gin_configs_file\n",
    "from colosseum.benchmark.benchmark import ColosseumDefaultBenchmark\n",
    "from colosseum.benchmark.run import instantiate_and_get_exp_instances_from_agents_and_benchmarks\n",
    "from colosseum.experiment import ExperimentConfig\n",
    "from colosseum.experiment.experiment_instances import run_experiment_instances\n",
    "\n",
    "experiments_folder = \"tutorial\"\n",
    "experiment_name = \"bench_run\"\n",
    "config.set_experiments_folder(experiments_folder, experiment_name)\n",
    "config.set_hyperopt_folder(experiments_folder, experiment_name)\n",
    "config.enable_verbose_logging()\n",
    "\n",
    "seed = 42\n",
    "```\n",
    "````\n",
    "`````"
   ]
  },
  {
   "cell_type": "code",
   "execution_count": 1,
   "id": "24a654ea",
   "metadata": {
    "tags": [
     "remove-output",
     "remove-input"
    ]
   },
   "outputs": [
    {
     "name": "stderr",
     "output_type": "stream",
     "text": [
      "2022-10-15 16:42:38.870795: I tensorflow/core/platform/cpu_feature_guard.cc:193] This TensorFlow binary is optimized with oneAPI Deep Neural Network Library (oneDNN) to use the following CPU instructions in performance-critical operations:  AVX2 FMA\n",
      "To enable them in other operations, rebuild TensorFlow with the appropriate compiler flags.\n",
      "2022-10-15 16:42:38.953001: E tensorflow/stream_executor/cuda/cuda_blas.cc:2981] Unable to register cuBLAS factory: Attempting to register factory for plugin cuBLAS when one has already been registered\n"
     ]
    },
    {
     "name": "stderr",
     "output_type": "stream",
     "text": [
      "2022-10-15 16:42:39.310709: W tensorflow/stream_executor/platform/default/dso_loader.cc:64] Could not load dynamic library 'libnvinfer.so.7'; dlerror: libnvinfer.so.7: cannot open shared object file: No such file or directory\n",
      "2022-10-15 16:42:39.310749: W tensorflow/stream_executor/platform/default/dso_loader.cc:64] Could not load dynamic library 'libnvinfer_plugin.so.7'; dlerror: libnvinfer_plugin.so.7: cannot open shared object file: No such file or directory\n",
      "2022-10-15 16:42:39.310754: W tensorflow/compiler/tf2tensorrt/utils/py_utils.cc:38] TF-TRT Warning: Cannot dlopen some TensorRT libraries. If you would like to use Nvidia GPU with TensorRT, please make sure the missing libraries mentioned above are installed properly.\n"
     ]
    }
   ],
   "source": [
    "from colosseum import config\n",
    "from colosseum.agent.agents.episodic import PSRLEpisodic, QLearningEpisodic\n",
    "from colosseum.agent.agents.infinite_horizon import QLearningContinuous, UCRL2Continuous\n",
    "from colosseum.agent.utils import sample_agent_gin_configs_file\n",
    "from colosseum.benchmark.benchmark import ColosseumDefaultBenchmark\n",
    "from colosseum.benchmark.run import instantiate_and_get_exp_instances_from_agents_and_benchmarks\n",
    "from colosseum.experiment import ExperimentConfig\n",
    "from colosseum.experiment.experiment_instances import run_experiment_instances\n",
    "\n",
    "experiments_folder = \"tutorial\"\n",
    "experiment_name = \"bench_run\"\n",
    "config.set_experiments_folder(experiments_folder, experiment_name)\n",
    "config.set_hyperopt_folder(experiments_folder, experiment_name)\n",
    "config.enable_verbose_logging()\n",
    "\n",
    "seed = 42"
   ]
  },
  {
   "cell_type": "markdown",
   "id": "6c50e64c",
   "metadata": {},
   "source": [
    "This short tutorial shows how to obtain agents' performances in a {{col}} benchmark using your local machine, whereas the [_Running on a cluster _ tutorial](../tutorials/benchmark-scaling) tutorial illustrates how to scale the benchmarking procedure to a generic cluster.\n",
    "\n",
    "```{code-block} python\n",
    "# Define a small scale experiment config\n",
    "experiment_config = ExperimentConfig(\n",
    "    n_seeds=1,\n",
    "    n_steps=5_000,\n",
    "    max_interaction_time_s=1 * 30,\n",
    "    log_performance_indicators_every=1000,\n",
    ")\n",
    "\n",
    "# Take the default colosseum benchmark for the episodic ergodic and the continuous communicating settings\n",
    "b_e = ColosseumDefaultBenchmark.EPISODIC_QUICK_TEST.get_benchmark()\n",
    "b_e.experiment_config = experiment_config\n",
    "b_c = ColosseumDefaultBenchmark.CONTINUOUS_QUICK_TEST.get_benchmark()\n",
    "b_c.experiment_config = experiment_config\n",
    "\n",
    "# Randomly sample some episodic agents\n",
    "agents_configs_e = {\n",
    "    PSRLEpisodic : sample_agent_gin_configs_file(PSRLEpisodic, n=1, seed=seed),\n",
    "    QLearningEpisodic : sample_agent_gin_configs_file(QLearningEpisodic, n=1, seed=seed),\n",
    "}\n",
    "\n",
    "# Randomly sample some continuous agents\n",
    "agents_configs_c = {\n",
    "    QLearningContinuous : sample_agent_gin_configs_file(QLearningContinuous, n=1, seed=seed),\n",
    "    UCRL2Continuous : sample_agent_gin_configs_file(UCRL2Continuous, n=1, seed=seed),\n",
    "}\n",
    "\n",
    "# Obtain the experiment instances for the agents configurations and the benchmark\n",
    "agents_and_benchmarks = [\n",
    "    (agents_configs_e, b_e),\n",
    "    (agents_configs_c, b_c),\n",
    "]\n",
    "experiment_instances = instantiate_and_get_exp_instances_from_agents_and_benchmarks(agents_and_benchmarks)\n",
    "\n",
    "# Run the experiment instances\n",
    "# Note that if multiprocessing is enabled, Colosseum will take advantage of it\n",
    "run_experiment_instances(experiment_instances)\n",
    "```"
   ]
  },
  {
   "cell_type": "code",
   "execution_count": 2,
   "id": "ceeed701",
   "metadata": {
    "tags": [
     "remove-input",
     "remove-output"
    ]
   },
   "outputs": [],
   "source": [
    "import shutil\n",
    "shutil.rmtree(config.get_experiments_folder())"
   ]
  }
 ],
 "metadata": {
  "jupytext": {
   "formats": "md:myst",
   "text_representation": {
    "extension": ".md",
    "format_name": "myst"
   }
  },
  "kernelspec": {
   "display_name": "Python 3",
   "language": "python",
   "name": "python3"
  },
  "language_info": {
   "codemirror_mode": {
    "name": "ipython",
    "version": 3
   },
   "file_extension": ".py",
   "mimetype": "text/x-python",
   "name": "python",
   "nbconvert_exporter": "python",
   "pygments_lexer": "ipython3",
   "version": "3.7.11"
  },
  "source_map": [
   11,
   37,
   55,
   98
  ]
 },
 "nbformat": 4,
 "nbformat_minor": 5
}