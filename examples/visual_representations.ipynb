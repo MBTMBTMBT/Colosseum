{
 "cells": [
  {
   "cell_type": "markdown",
   "source": [
    "## MDP visual representations\n",
    "\n",
    "Colosseum provides two visual representations for the MDPs in the form of graphs.\n",
    "In the *MDP representation*, states are depicted by circular nodes, actions by square nodes, and transition probabilities by the thickness of the edges connecting action nodes to state nodes.\n",
    "Although quite complex, this visualization gives a complete picture of the MDP structure and allows representing the state-action value function.\n",
    "The *Markov chain representation* is closer to a Markov chain graph.\n",
    "A directed edge connects state $s$ to state $s'$ if there is a non-zero probability of transitioning from $s$ to $s'$.\n",
    "Through this simpler representation, it is possible to obtain a solid intuition about the MDP structure and inspect the state value function."
   ],
   "metadata": {
    "collapsed": false,
    "pycharm": {
     "name": "#%% md\n"
    }
   }
  },
  {
   "cell_type": "code",
   "execution_count": null,
   "metadata": {
    "collapsed": true,
    "pycharm": {
     "name": "#%%\n"
    }
   },
   "outputs": [],
   "source": [
    "import matplotlib.cm\n",
    "import matplotlib.pyplot as plt\n",
    "\n",
    "from colosseum.mdps.deep_sea import DeepSeaContinuous\n",
    "from colosseum.mdps.frozen_lake import FrozenLakeContinuous\n",
    "from colosseum.mdps.minigrid_empty import MiniGridEmptyContinuous\n",
    "from colosseum.mdps.minigrid_rooms import MiniGridRoomsContinuous\n",
    "from colosseum.mdps.visualization import plot_MDP_graph, plot_MCGraph"
   ]
  },
  {
   "cell_type": "markdown",
   "source": [
    "### $\\texttt{DeepSea}$ and $\\texttt{FrozenLake}$ MDP plots."
   ],
   "metadata": {
    "collapsed": false,
    "pycharm": {
     "name": "#%% md\n"
    }
   }
  },
  {
   "cell_type": "code",
   "execution_count": null,
   "outputs": [],
   "source": [
    "fig, (ax1, ax2) = plt.subplots(1, 2, figsize=(24, 8))\n",
    "\n",
    "mdp = DeepSeaContinuous(seed=0, size=5, random_action_p=0.3)\n",
    "plot_MDP_graph(mdp, prog=\"dot\", ncol=1, fontsize=16, ax=ax1)\n",
    "\n",
    "mdp = FrozenLakeContinuous(seed=0, size=4, p_frozen=0.8)\n",
    "plot_MDP_graph(mdp, prog=\"dot\", ncol=3, fontsize=16, ax=ax2)\n",
    "\n",
    "plt.tight_layout()\n",
    "plt.show()"
   ],
   "metadata": {
    "collapsed": false,
    "pycharm": {
     "name": "#%%\n"
    }
   }
  },
  {
   "cell_type": "markdown",
   "source": [
    "### $\\texttt{MiniGridEmpty}$ MDP plot"
   ],
   "metadata": {
    "collapsed": false,
    "pycharm": {
     "name": "#%% md\n"
    }
   }
  },
  {
   "cell_type": "code",
   "execution_count": null,
   "outputs": [],
   "source": [
    "mdp = MiniGridEmptyContinuous(seed=0, size=4)\n",
    "plot_MDP_graph(mdp, ncol=3, figsize=(12, 12), fontsize=18)"
   ],
   "metadata": {
    "collapsed": false,
    "pycharm": {
     "name": "#%%\n"
    }
   }
  },
  {
   "cell_type": "markdown",
   "source": [
    "### $\\texttt{MiniGridRooms}$ MDP plot"
   ],
   "metadata": {
    "collapsed": false,
    "pycharm": {
     "name": "#%% md\n"
    }
   }
  },
  {
   "cell_type": "code",
   "execution_count": null,
   "outputs": [],
   "source": [
    "mdp = MiniGridRoomsContinuous(seed=0, room_size=3, n_rooms=9)\n",
    "plot_MDP_graph(mdp, ncol=3, figsize=(20, 20), fontsize=19)"
   ],
   "metadata": {
    "collapsed": false,
    "pycharm": {
     "name": "#%%\n"
    }
   }
  },
  {
   "cell_type": "markdown",
   "source": [
    "### $\\texttt{DeepSea}$ and $\\texttt{FrozenLake}$ Markov chain plots"
   ],
   "metadata": {
    "collapsed": false,
    "pycharm": {
     "name": "#%% md\n"
    }
   }
  },
  {
   "cell_type": "code",
   "execution_count": null,
   "outputs": [],
   "source": [
    "fig, (ax1, ax2) = plt.subplots(1, 2, figsize=(24, 8))\n",
    "\n",
    "mdp = DeepSeaContinuous(seed=0, size=15, random_action_p=0.3)\n",
    "plot_MCGraph(mdp, fontsize=12, ax=ax1)\n",
    "\n",
    "mdp = FrozenLakeContinuous(seed=0, size=15, p_frozen=0.8)\n",
    "plot_MCGraph(mdp, fontsize=12, ax=ax2)\n",
    "\n",
    "plt.tight_layout()\n",
    "plt.show()"
   ],
   "metadata": {
    "collapsed": false,
    "pycharm": {
     "name": "#%%\n"
    }
   }
  },
  {
   "cell_type": "markdown",
   "source": [
    "### $\\texttt{MiniGridEmpty}$ and $\\texttt{MiniGridRooms}$ Markov chain plots"
   ],
   "metadata": {
    "collapsed": false,
    "pycharm": {
     "name": "#%% md\n"
    }
   }
  },
  {
   "cell_type": "code",
   "execution_count": null,
   "outputs": [],
   "source": [
    "fig, (ax1, ax2) = plt.subplots(1, 2, figsize=(24, 8))\n",
    "\n",
    "mdp = MiniGridEmptyContinuous(seed=0, size=7)\n",
    "plot_MCGraph(mdp, fontsize=12, ax=ax1)\n",
    "\n",
    "mdp = MiniGridRoomsContinuous(seed=0, room_size=3, n_rooms=9)\n",
    "plot_MCGraph(mdp, fontsize=12, ax=ax2)\n",
    "\n",
    "plt.tight_layout()\n",
    "plt.show()"
   ],
   "metadata": {
    "collapsed": false,
    "pycharm": {
     "name": "#%%\n"
    }
   }
  },
  {
   "cell_type": "markdown",
   "source": [
    "### $\\texttt{DeepSea}$ visitation counts labels."
   ],
   "metadata": {
    "collapsed": false,
    "pycharm": {
     "name": "#%% md\n"
    }
   }
  },
  {
   "cell_type": "code",
   "execution_count": null,
   "outputs": [],
   "source": [
    "mdp = DeepSeaContinuous(seed=0, size=5, random_action_p=0.3)\n",
    "mdp.reset()\n",
    "for _ in range(800):\n",
    "    mdp.random_step()\n",
    "node_labels = mdp.get_visitation_counts()\n",
    "action_labels = mdp.get_visitation_counts(False)\n",
    "plot_MDP_graph(\n",
    "    mdp,\n",
    "    prog=\"dot\",\n",
    "    ncol=1,\n",
    "    figsize=(7, 7),\n",
    "    fontsize=12,\n",
    "    node_labels=node_labels,\n",
    "    action_labels=action_labels,\n",
    "    int_labels_offset_x=0,\n",
    "    int_labels_offset_y=0,\n",
    "    font_color_state_actions_labels=\"white\",\n",
    "    no_written_state_action_labels=False,\n",
    "    no_written_state_labels=False,\n",
    ")"
   ],
   "metadata": {
    "collapsed": false,
    "pycharm": {
     "name": "#%%\n"
    }
   }
  },
  {
   "cell_type": "markdown",
   "source": [
    "### $\\texttt{FrozenLake}$ visitation counts labels."
   ],
   "metadata": {
    "collapsed": false,
    "pycharm": {
     "name": "#%% md\n"
    }
   }
  },
  {
   "cell_type": "code",
   "execution_count": null,
   "outputs": [],
   "source": [
    "mdp = FrozenLakeContinuous(seed=0, size=4, p_frozen=0.8)\n",
    "mdp.reset()\n",
    "for _ in range(500):\n",
    "    mdp.random_step()\n",
    "node_labels = mdp.get_visitation_counts()\n",
    "action_labels = mdp.get_visitation_counts(False)\n",
    "plot_MDP_graph(\n",
    "    mdp,\n",
    "    prog=\"dot\",\n",
    "    ncol=3,\n",
    "    figsize=(6, 6),\n",
    "    node_labels=node_labels,\n",
    "    action_labels=action_labels,\n",
    "    int_labels_offset_x=0,\n",
    "    int_labels_offset_y=0,\n",
    "    font_color_state_actions_labels=\"white\",\n",
    "    no_written_state_action_labels=False,\n",
    "    no_written_state_labels=False,\n",
    ")"
   ],
   "metadata": {
    "collapsed": false,
    "pycharm": {
     "name": "#%%\n"
    }
   }
  },
  {
   "cell_type": "markdown",
   "source": [
    "### $\\texttt{DeepSea}$ visitation counts heatmap."
   ],
   "metadata": {
    "collapsed": false,
    "pycharm": {
     "name": "#%% md\n"
    }
   }
  },
  {
   "cell_type": "code",
   "execution_count": null,
   "outputs": [],
   "source": [
    "mdp = DeepSeaContinuous(seed=0, size=5, random_action_p=0.3)\n",
    "mdp.reset()\n",
    "for _ in range(5000):\n",
    "    mdp.random_step()\n",
    "node_labels = mdp.get_visitation_counts()\n",
    "action_labels = mdp.get_visitation_counts(False)\n",
    "plot_MDP_graph(\n",
    "    mdp,\n",
    "    prog=\"dot\",\n",
    "    ncol=1,\n",
    "    figsize=(7, 7),\n",
    "    fontsize=12,\n",
    "    node_labels=node_labels,\n",
    "    action_labels=action_labels,\n",
    "    cm_state_labels=matplotlib.cm.get_cmap(\"Blues\"),\n",
    "    cm_state_actions_labels=matplotlib.cm.get_cmap(\"Greens\"),\n",
    ")"
   ],
   "metadata": {
    "collapsed": false,
    "pycharm": {
     "name": "#%%\n"
    }
   }
  },
  {
   "cell_type": "markdown",
   "source": [
    "### $\\texttt{FrozenLake}$ visitation counts heatmap."
   ],
   "metadata": {
    "collapsed": false,
    "pycharm": {
     "name": "#%% md\n"
    }
   }
  },
  {
   "cell_type": "code",
   "execution_count": null,
   "outputs": [],
   "source": [
    "mdp = FrozenLakeContinuous(seed=0, size=4, p_frozen=0.8)\n",
    "mdp.reset()\n",
    "for _ in range(5000):\n",
    "    mdp.random_step()\n",
    "node_labels = mdp.get_visitation_counts()\n",
    "action_labels = mdp.get_visitation_counts(False)\n",
    "plot_MDP_graph(\n",
    "    mdp,\n",
    "    prog=\"dot\",\n",
    "    ncol=3,\n",
    "    figsize=(6, 6),\n",
    "    node_labels=node_labels,\n",
    "    action_labels=action_labels,\n",
    "    cm_state_labels=matplotlib.cm.get_cmap(\"Blues\"),\n",
    "    cm_state_actions_labels=matplotlib.cm.get_cmap(\"Greens\"),\n",
    ")"
   ],
   "metadata": {
    "collapsed": false,
    "pycharm": {
     "name": "#%%\n"
    }
   }
  },
  {
   "cell_type": "markdown",
   "source": [
    "### $\\texttt{MiniGridEmpty}$ visitation counts labels."
   ],
   "metadata": {
    "collapsed": false,
    "pycharm": {
     "name": "#%% md\n"
    }
   }
  },
  {
   "cell_type": "code",
   "execution_count": null,
   "outputs": [],
   "source": [
    "mdp = MiniGridEmptyContinuous(seed=0, size=7)\n",
    "mdp.reset()\n",
    "for _ in range(2000):\n",
    "    mdp.random_step()\n",
    "node_labels = mdp.get_visitation_counts()\n",
    "plot_MCGraph(\n",
    "    mdp,\n",
    "    figsize=(8, 8),\n",
    "    fontsize=14,\n",
    "    labels=node_labels,\n",
    "    node_size=250,\n",
    "    font_color_labels=\"white\",\n",
    ")"
   ],
   "metadata": {
    "collapsed": false,
    "pycharm": {
     "name": "#%%\n"
    }
   }
  },
  {
   "cell_type": "markdown",
   "source": [
    "### $\\texttt{MiniGridRooms}$ visitation counts labels."
   ],
   "metadata": {
    "collapsed": false,
    "pycharm": {
     "name": "#%% md\n"
    }
   }
  },
  {
   "cell_type": "code",
   "execution_count": null,
   "outputs": [],
   "source": [
    "mdp = MiniGridRoomsContinuous(seed=0, room_size=3, n_rooms=9)\n",
    "mdp.reset()\n",
    "for _ in range(2000):\n",
    "    mdp.random_step()\n",
    "node_labels = mdp.get_visitation_counts()\n",
    "plot_MCGraph(\n",
    "    mdp,\n",
    "    figsize=(9, 9),\n",
    "    fontsize=15,\n",
    "    labels=node_labels,\n",
    "    node_size=250,\n",
    "    font_color_labels=\"white\",\n",
    ")"
   ],
   "metadata": {
    "collapsed": false,
    "pycharm": {
     "name": "#%%\n"
    }
   }
  },
  {
   "cell_type": "markdown",
   "source": [
    "### $\\texttt{MiniGridEmpty}$ visitation counts heatmap."
   ],
   "metadata": {
    "collapsed": false,
    "pycharm": {
     "name": "#%% md\n"
    }
   }
  },
  {
   "cell_type": "code",
   "execution_count": null,
   "outputs": [],
   "source": [
    "mdp = MiniGridEmptyContinuous(seed=0, size=7)\n",
    "mdp.reset()\n",
    "for _ in range(10_000):\n",
    "    mdp.random_step()\n",
    "node_labels = mdp.get_visitation_counts()\n",
    "plot_MCGraph(\n",
    "    mdp,\n",
    "    figsize=(8, 8),\n",
    "    fontsize=14,\n",
    "    labels=node_labels,\n",
    "    node_size=250,\n",
    "    cm_state_labels=matplotlib.cm.get_cmap(\"Blues\"),\n",
    ")"
   ],
   "metadata": {
    "collapsed": false,
    "pycharm": {
     "name": "#%%\n"
    }
   }
  },
  {
   "cell_type": "markdown",
   "source": [
    "### $\\texttt{MiniGridRooms}$ visitation counts heatmap."
   ],
   "metadata": {
    "collapsed": false,
    "pycharm": {
     "name": "#%% md\n"
    }
   }
  },
  {
   "cell_type": "code",
   "execution_count": null,
   "outputs": [],
   "source": [
    "mdp = MiniGridRoomsContinuous(seed=0, room_size=3, n_rooms=9)\n",
    "mdp.reset()\n",
    "for _ in range(10_000):\n",
    "    mdp.random_step()\n",
    "node_labels = mdp.get_visitation_counts()\n",
    "plot_MCGraph(\n",
    "    mdp,\n",
    "    figsize=(9, 9),\n",
    "    fontsize=15,\n",
    "    labels=node_labels,\n",
    "    node_size=250,\n",
    "    cm_state_labels=matplotlib.cm.get_cmap(\"Blues\"),\n",
    ")"
   ],
   "metadata": {
    "collapsed": false,
    "pycharm": {
     "name": "#%%\n"
    }
   }
  }
 ],
 "metadata": {
  "kernelspec": {
   "display_name": "Python 3",
   "language": "python",
   "name": "python3"
  },
  "language_info": {
   "codemirror_mode": {
    "name": "ipython",
    "version": 2
   },
   "file_extension": ".py",
   "mimetype": "text/x-python",
   "name": "python",
   "nbconvert_exporter": "python",
   "pygments_lexer": "ipython2",
   "version": "2.7.6"
  }
 },
 "nbformat": 4,
 "nbformat_minor": 0
}