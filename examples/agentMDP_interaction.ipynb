{
 "cells": [
  {
   "cell_type": "markdown",
   "source": [
    "## Agent MDP interaction\n",
    "\n",
    "The MDPLoop class handles the agent/MDP interaction and can be used to display the cumulative regret and the cumulative reward of an agent implemented in $\\texttt{Colosseum}$ and of a agent that chooses actions at random, which serves as a simple baseline.\n",
    "\n",
    "### $\\texttt{PSRL}$ agent on a $\\texttt{FrozenLake}$ MDP instance."
   ],
   "metadata": {
    "collapsed": false,
    "pycharm": {
     "name": "#%% md\n"
    }
   }
  },
  {
   "cell_type": "code",
   "execution_count": 1,
   "metadata": {
    "collapsed": true,
    "pycharm": {
     "name": "#%%\n"
    }
   },
   "outputs": [],
   "source": [
    "import matplotlib.pyplot as plt\n",
    "\n",
    "from colosseum.agents.bayes_tools.conjugate_rewards import RewardsConjugateModel\n",
    "from colosseum.agents.bayes_tools.conjugate_transitions import TransitionsConjugateModel\n",
    "from colosseum.agents.episodic.psrl import PSRLEpisodic\n",
    "from colosseum.experiments.experiment import MDPLoop\n",
    "from colosseum.mdps.frozen_lake import FrozenLakeEpisodic\n",
    "from colosseum.utils.acme.in_memory_logger import InMemoryLogger\n",
    "from colosseum.utils.acme.specs import make_environment_spec"
   ]
  },
  {
   "cell_type": "code",
   "execution_count": 2,
   "outputs": [],
   "source": [
    "T = 20_000"
   ],
   "metadata": {
    "collapsed": false,
    "pycharm": {
     "name": "#%%\n"
    }
   }
  },
  {
   "cell_type": "code",
   "execution_count": null,
   "outputs": [],
   "source": [
    "mdp = FrozenLakeEpisodic(seed=42, size=4, p_frozen=0.8)\n",
    "agent = PSRLEpisodic(\n",
    "    environment_spec=make_environment_spec(mdp),\n",
    "    seed=42,\n",
    "    H=mdp.H,\n",
    "    r_max=mdp.r_max,\n",
    "    T=T,\n",
    "    reward_prior_model=RewardsConjugateModel.N_NIG,\n",
    "    transitions_prior_model=TransitionsConjugateModel.M_DIR,\n",
    "    rewards_prior_prms=[0.33, 1, 1, 1],\n",
    "    transitions_prior_prms=[0.017],\n",
    ")"
   ],
   "metadata": {
    "collapsed": false,
    "pycharm": {
     "name": "#%%\n"
    }
   }
  },
  {
   "cell_type": "code",
   "execution_count": null,
   "outputs": [],
   "source": [
    "loop = MDPLoop(\n",
    "    mdp, agent, logger=InMemoryLogger()\n",
    ")  # or CSVLogger() to save the logs in csv files.\n",
    "loop.run(T=T, verbose=True, log_every=10)\n",
    "fig, (ax1, ax2, ax3) = plt.subplots(1, 3, figsize=(3 * 6, 6))\n",
    "loop.plot([\"cumulative_regret\", \"random_cumulative_regret\"], ax1)\n",
    "loop.plot([\"normalized_cumulative_regret\", \"random_normalized_cumulative_regret\"], ax2)\n",
    "loop.plot([\"cumulative_return\", \"random_cumulative_return\"], ax3)\n",
    "plt.tight_layout()\n",
    "plt.show()"
   ],
   "metadata": {
    "collapsed": false,
    "pycharm": {
     "name": "#%%\n"
    }
   }
  }
 ],
 "metadata": {
  "kernelspec": {
   "display_name": "Python 3",
   "language": "python",
   "name": "python3"
  },
  "language_info": {
   "codemirror_mode": {
    "name": "ipython",
    "version": 2
   },
   "file_extension": ".py",
   "mimetype": "text/x-python",
   "name": "python",
   "nbconvert_exporter": "python",
   "pygments_lexer": "ipython2",
   "version": "2.7.6"
  }
 },
 "nbformat": 4,
 "nbformat_minor": 0
}